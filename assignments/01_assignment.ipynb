{
 "cells": [
  {
   "cell_type": "markdown",
   "metadata": {},
   "source": [
    "# Image Processing SS 20 - Assignment - 01\n",
    "\n",
    "### Deadline is 29.4.2020 at 12:00\n",
    "\n",
    "Please solve the assignments together with a partner.\n",
    "I will run every notebook. Make sure the code runs without errors, when clicking `Kernel` -> `Restart & Run All`.\n"
   ]
  },
  {
   "cell_type": "markdown",
   "metadata": {},
   "source": [
    "## Introduction to Python / Numpy\n",
    "\n",
    "* [Learn Python in 15 minutes](https://learnxinyminutes.com/docs/python3/): We will use Python 3.\n",
    "* [Numpy for Matlab Users](https://docs.scipy.org/doc/numpy/user/numpy-for-matlab-users.html#general-purpose-equivalents)\n",
    "* [Numpy Quickstart](https://docs.scipy.org/doc/numpy/user/quickstart.html)\n",
    "\n",
    "## Libraries\n",
    "\n",
    "We will use the following libraries:\n",
    "\n",
    "* matplotlib\n",
    "* numpy\n",
    "* scipy\n",
    "* skimage\n"
   ]
  },
  {
   "cell_type": "markdown",
   "metadata": {},
   "source": [
    "# Exercise 0 - Setup Development Enviroment - [1 Point]\n",
    "\n",
    "Find a partner, follow the steps in the [README](https://github.com/BildverarbeitungSS20/Hausaufgaben/blob/master/README.md) and paste a link to your repository and your names into the KVV assignment box. Also include your names inside your solution.\n",
    "You do not need to upload any files to MyCampus Whiteboard. I will clone your repository."
   ]
  },
  {
   "cell_type": "code",
   "execution_count": null,
   "metadata": {},
   "outputs": [],
   "source": [
    "# display the plots inside the notebook\n",
    "%matplotlib inline"
   ]
  },
  {
   "cell_type": "code",
   "execution_count": null,
   "metadata": {},
   "outputs": [],
   "source": [
    "import numpy as np\n",
    "import matplotlib.pyplot as plt\n",
    "import pylab\n",
    "pylab.rcParams['figure.figsize'] = (12, 12)   # This makes the plot bigger"
   ]
  },
  {
   "cell_type": "markdown",
   "metadata": {},
   "source": [
    "The [skimage](http://scikit-image.org/) library comes with multiple useful test images.  Let's start with an image of an astronaut. "
   ]
  },
  {
   "cell_type": "code",
   "execution_count": null,
   "metadata": {},
   "outputs": [],
   "source": [
    "from skimage.data import astronaut"
   ]
  },
  {
   "cell_type": "code",
   "execution_count": null,
   "metadata": {},
   "outputs": [],
   "source": [
    "img = astronaut()   # Get the image\n",
    "print(img.shape)    # the dimension of the image\n",
    "print(img.dtype)    # the image type"
   ]
  },
  {
   "cell_type": "markdown",
   "metadata": {},
   "source": [
    "We have a `(512, 512, 3)` array of unsigned bytes. At `img[x, y]` there are three values for R,G and B."
   ]
  },
  {
   "cell_type": "markdown",
   "metadata": {},
   "source": [
    "We will always work with floating point arrays between 0 and 1. "
   ]
  },
  {
   "cell_type": "code",
   "execution_count": null,
   "metadata": {},
   "outputs": [],
   "source": [
    "img = img / 255."
   ]
  },
  {
   "cell_type": "markdown",
   "metadata": {},
   "source": [
    "Lets display the image."
   ]
  },
  {
   "cell_type": "code",
   "execution_count": null,
   "metadata": {},
   "outputs": [],
   "source": [
    "plt.imshow(img)\n",
    "plt.show()"
   ]
  },
  {
   "cell_type": "markdown",
   "metadata": {},
   "source": [
    "This is [Eileen Collins](https://en.wikipedia.org/wiki/Eileen_Collins). She was the first astronaut \n",
    " to fly the Space Shuttle through a complete 360-degree pitch maneuver. What an inspiring woman."
   ]
  },
  {
   "cell_type": "markdown",
   "metadata": {},
   "source": [
    "## Exercise 1 - Plot -       [1 Point]\n",
    "\n",
    "Plot the R, G and B channels separately."
   ]
  },
  {
   "cell_type": "code",
   "execution_count": null,
   "metadata": {},
   "outputs": [],
   "source": [
    "# R Channel\n",
    "r_chn_img = img.copy()\n",
    "r_chn_img[:,:,1] = 0\n",
    "r_chn_img[:,:,2] = 0\n",
    "\n",
    "g_chn_img = img.copy()\n",
    "g_chn_img[:,:,0] = 0\n",
    "g_chn_img[:,:,2] = 0\n",
    "\n",
    "b_chn_img = img.copy()\n",
    "b_chn_img[:,:,0] = 0\n",
    "b_chn_img[:,:,1] = 0\n",
    "\n",
    "plt.imshow(r_chn_img)\n",
    "plt.show()\n",
    "\n",
    "plt.imshow(g_chn_img)\n",
    "plt.show()\n",
    "\n",
    "plt.imshow(b_chn_img)\n",
    "plt.show()"
   ]
  },
  {
   "cell_type": "markdown",
   "metadata": {},
   "source": [
    "## Exercise 2 - RGB to HSV [6 Points]\n",
    "\n",
    "Implement the `rgb_to_hsv` and `hsv_to_rgb` functions. Don't use any color conversion functions from a library.\n"
   ]
  },
  {
   "cell_type": "code",
   "execution_count": null,
   "metadata": {},
   "outputs": [],
   "source": [
    "def rgb_to_hsv(x):\n",
    "    \"\"\"\n",
    "    Converts the numpy array `x` from RGB to the HSV. \n",
    "    \"\"\"\n",
    "    # Your code here\n",
    "    return x"
   ]
  },
  {
   "cell_type": "code",
   "execution_count": null,
   "metadata": {},
   "outputs": [],
   "source": [
    "def hsv_to_rgb(x):\n",
    "    \"\"\"\n",
    "    Converts the numpy array `x` from HSV to the RGB. \n",
    "    \"\"\"\n",
    "    # Your code here\n",
    "    return x"
   ]
  },
  {
   "cell_type": "markdown",
   "metadata": {},
   "source": [
    "Plot the saturation of the astronaut image"
   ]
  },
  {
   "cell_type": "code",
   "execution_count": null,
   "metadata": {},
   "outputs": [],
   "source": [
    "img_as_hsv = rgb_to_hsv(img)\n",
    "# your code"
   ]
  },
  {
   "cell_type": "markdown",
   "metadata": {},
   "source": [
    "Increase the saturation by a factor of 2, convert it back to RGB and plot the result."
   ]
  },
  {
   "cell_type": "code",
   "execution_count": null,
   "metadata": {},
   "outputs": [],
   "source": [
    "# your code"
   ]
  },
  {
   "cell_type": "markdown",
   "metadata": {
    "pycharm": {
     "name": "#%% md\n"
    }
   },
   "source": [
    "## Exercise 3 - Calculation [2 Points]\n",
    "\n",
    "In the figure below you can see the [CIE-XYZ](https://de.wikipedia.org/wiki/CIE-Normvalenzsystem) color space.\n",
    "![](https://upload.wikimedia.org/wikipedia/commons/4/49/CIE-Normfarbtafel.png)\n",
    "\n",
    "What are the approximate x,y,z values for the following Adobe RGB colors:\n",
    "* `(0, 0.5, 0.5)`\n",
    "* `(0.33, 0.33, 0.33)`\n",
    "\n",
    "A sodium-vapor lamp shines with double the intensity of a mercury-vapor lamp\n",
    ". The light from the sodium lamp only contains \n",
    "the spectral line at `589,00nm` and the light from the mercury lamp only the\n",
    "spectral line at `435,83 nm`.\n",
    "\n",
    "What color does a human experience? What are the approximate x,y,z values?\n"
   ]
  }
 ],
 "metadata": {
  "kernelspec": {
   "display_name": "Python 3",
   "language": "python",
   "name": "python3"
  },
  "language_info": {
   "codemirror_mode": {
    "name": "ipython",
    "version": 3
   },
   "file_extension": ".py",
   "mimetype": "text/x-python",
   "name": "python",
   "nbconvert_exporter": "python",
   "pygments_lexer": "ipython3",
   "version": "3.7.5"
  }
 },
 "nbformat": 4,
 "nbformat_minor": 4
}
