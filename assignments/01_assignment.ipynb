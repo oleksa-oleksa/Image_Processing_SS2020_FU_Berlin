{
 "cells": [
  {
   "cell_type": "markdown",
   "metadata": {},
   "source": [
    "# Image Processing SS 20 - Assignment - 01\n",
    "\n",
    "### Deadline is 29.4.2020 at 12:00\n",
    "\n",
    "Please solve the assignments together with a partner.\n",
    "I will run every notebook. Make sure the code runs without errors, when clicking `Kernel` -> `Restart & Run All`.\n"
   ]
  },
  {
   "cell_type": "markdown",
   "metadata": {},
   "source": [
    "## Introduction to Python / Numpy\n",
    "\n",
    "* [Learn Python in 15 minutes](https://learnxinyminutes.com/docs/python3/): We will use Python 3.\n",
    "* [Numpy for Matlab Users](https://docs.scipy.org/doc/numpy/user/numpy-for-matlab-users.html#general-purpose-equivalents)\n",
    "* [Numpy Quickstart](https://docs.scipy.org/doc/numpy/user/quickstart.html)\n",
    "\n",
    "## Libraries\n",
    "\n",
    "We will use the following libraries:\n",
    "\n",
    "* matplotlib\n",
    "* numpy\n",
    "* scipy\n",
    "* skimage\n"
   ]
  },
  {
   "cell_type": "markdown",
   "metadata": {},
   "source": [
    "# Exercise 0 - Setup Development Enviroment - [1 Point]\n",
    "\n",
    "Find a partner, follow the steps in the [README](https://github.com/BildverarbeitungSS20/Hausaufgaben/blob/master/README.md) and paste a link to your repository and your names into the KVV assignment box. Also include your names inside your solution.\n",
    "You do not need to upload any files to MyCampus Whiteboard. I will clone your repository."
   ]
  },
  {
   "cell_type": "code",
   "execution_count": null,
   "metadata": {},
   "outputs": [],
   "source": [
    "# display the plots inside the notebook\n",
    "%matplotlib inline"
   ]
  },
  {
   "cell_type": "code",
   "execution_count": null,
   "metadata": {},
   "outputs": [],
   "source": [
    "import numpy as np\n",
    "import matplotlib.pyplot as plt\n",
    "import pylab\n",
    "import math\n",
    "pylab.rcParams['figure.figsize'] = (12, 12)   # This makes the plot bigger"
   ]
  },
  {
   "cell_type": "markdown",
   "metadata": {},
   "source": [
    "The [skimage](http://scikit-image.org/) library comes with multiple useful test images.  Let's start with an image of an astronaut. "
   ]
  },
  {
   "cell_type": "code",
   "execution_count": null,
   "metadata": {},
   "outputs": [],
   "source": [
    "from skimage.data import astronaut"
   ]
  },
  {
   "cell_type": "code",
   "execution_count": null,
   "metadata": {},
   "outputs": [],
   "source": [
    "img = astronaut()   # Get the image\n",
    "print(img.shape)    # the dimension of the image\n",
    "print(img.dtype)    # the image type"
   ]
  },
  {
   "cell_type": "markdown",
   "metadata": {},
   "source": [
    "We have a `(512, 512, 3)` array of unsigned bytes. At `img[x, y]` there are three values for R,G and B."
   ]
  },
  {
   "cell_type": "markdown",
   "metadata": {},
   "source": [
    "We will always work with floating point arrays between 0 and 1. "
   ]
  },
  {
   "cell_type": "code",
   "execution_count": null,
   "metadata": {},
   "outputs": [],
   "source": [
    "img = img / 255."
   ]
  },
  {
   "cell_type": "markdown",
   "metadata": {},
   "source": [
    "Lets display the image."
   ]
  },
  {
   "cell_type": "code",
   "execution_count": null,
   "metadata": {
    "pycharm": {
     "is_executing": true
    }
   },
   "outputs": [],
   "source": [
    "plt.imshow(img)\n",
    "plt.show()"
   ]
  },
  {
   "cell_type": "markdown",
   "metadata": {},
   "source": [
    "This is [Eileen Collins](https://en.wikipedia.org/wiki/Eileen_Collins). She was the first astronaut \n",
    " to fly the Space Shuttle through a complete 360-degree pitch maneuver. What an inspiring woman."
   ]
  },
  {
   "cell_type": "markdown",
   "metadata": {},
   "source": [
    "## Exercise 1 - Plot -       [1 Point]\n",
    "\n",
    "Plot the R, G and B channels separately."
   ]
  },
  {
   "cell_type": "code",
   "execution_count": null,
   "metadata": {
    "pycharm": {
     "is_executing": true
    }
   },
   "outputs": [],
   "source": [
    "# R Channel\n",
    "r_chn_img = img.copy()\n",
    "r_chn_img[:,:,1] = 0\n",
    "r_chn_img[:,:,2] = 0\n",
    "\n",
    "g_chn_img = img.copy()\n",
    "g_chn_img[:,:,0] = 0\n",
    "g_chn_img[:,:,2] = 0\n",
    "\n",
    "b_chn_img = img.copy()\n",
    "b_chn_img[:,:,0] = 0\n",
    "b_chn_img[:,:,1] = 0\n",
    "\n",
    "plt.imshow(r_chn_img)\n",
    "plt.show()\n",
    "\n",
    "plt.imshow(g_chn_img)\n",
    "plt.show()\n",
    "\n",
    "plt.imshow(b_chn_img)\n",
    "plt.show()"
   ]
  },
  {
   "cell_type": "markdown",
   "metadata": {},
   "source": [
    "## Exercise 2 - RGB to HSV [6 Points]\n",
    "\n",
    "Implement the `rgb_to_hsv` and `hsv_to_rgb` functions. Don't use any color conversion functions from a library.\n"
   ]
  },
  {
   "cell_type": "code",
   "execution_count": null,
   "metadata": {
    "pycharm": {
     "is_executing": true
    }
   },
   "outputs": [],
   "source": [
    "def rgb_to_hsv(x):\n",
    "    \"\"\"\n",
    "    Converts the numpy array `x` from RGB to the HSV. \n",
    "    \"\"\"\n",
    "    # Your code here\n",
    "    new = x.copy()\n",
    "    \n",
    "    for i in range(0, new.shape[0]):\n",
    "        for j in range(0, new.shape[1]):\n",
    "            min_rgb = min(x[i, j])\n",
    "            max_rgb = max(x[i, j])\n",
    "            delta = max_rgb - min_rgb\n",
    "            \n",
    "            if math.isclose(min_rgb, max_rgb, rel_tol=1e-5):\n",
    "                new[i, j, 0] = 0\n",
    "            elif math.isclose(max_rgb, x[i,j,0], rel_tol=1e-5):\n",
    "                new[i, j, 0] = 60 * (0 + ((x[i,j,1] - x[i,j,2])/delta))\n",
    "            elif math.isclose(max_rgb, x[i,j,1], rel_tol=1e-5):\n",
    "                new[i, j, 0] = 60 * (2 + ((x[i,j,2] - x[i,j,0])/delta))\n",
    "            elif math.isclose(max_rgb, x[i,j,2], rel_tol=1e-5):\n",
    "                new[i, j, 0] = 60 * (4 + ((x[i,j,0] - x[i,j,1])/delta))\n",
    "                \n",
    "            if new[i, j, 0] < 0:\n",
    "                new[i, j, 0] = new[i, j, 0] + 360\n",
    "                \n",
    "            if math.isclose(max_rgb, 0, rel_tol=1e-5):\n",
    "                new[i, j, 1] = 0\n",
    "            else:\n",
    "                new[i, j, 1] = delta/max_rgb\n",
    "                \n",
    "            new[i, j, 2] = max_rgb\n",
    "            \n",
    "    return new"
   ]
  },
  {
   "cell_type": "code",
   "execution_count": null,
   "metadata": {
    "pycharm": {
     "is_executing": true
    }
   },
   "outputs": [],
   "source": [
    "def hsv_to_rgb(x):\n",
    "    \"\"\"\n",
    "    Converts the numpy array `x` from HSV to the RGB. \n",
    "    \"\"\"\n",
    "    # Your code here\n",
    "    new = x.copy()\n",
    "    \n",
    "    # basierend auf https://de.wikipedia.org/wiki/HSV-Farbraum#Transformation_von_HSV/HSL_und_RGB\n",
    "    for i in range(0, new.shape[0]):\n",
    "        for j in range(0, new.shape[1]):\n",
    "            # S = 0 => R = G = B = V\n",
    "            if math.isclose(x[i,j,1], 0, rel_tol=1e-5):\n",
    "                new[i,j,0] = x[i,j,2]\n",
    "                new[i,j,1] = x[i,j,2]\n",
    "                new[i,j,2] = x[i,j,2]\n",
    "            else:\n",
    "                h = int(math.floor(x[i,j,0]/60))\n",
    "                f = x[i,j,0]/60 - h\n",
    "                p = x[i,j,2] * (1 - x[i,j,1])\n",
    "                q = x[i,j,2] * (1 - x[i,j,1] * f)\n",
    "                t = x[i,j,2] * (1 - x[i,j,1] * (1 - f))\n",
    "                \n",
    "                if h == 0 or h == 6:\n",
    "                    new[i,j,0] = x[i,j,2]\n",
    "                    new[i,j,1] = t\n",
    "                    new[i,j,2] = p\n",
    "                elif h == 1:\n",
    "                    new[i,j,0] = q\n",
    "                    new[i,j,1] = x[i,j,2]\n",
    "                    new[i,j,2] = p\n",
    "                elif h == 2:\n",
    "                    new[i,j,0] = p\n",
    "                    new[i,j,1] = x[i,j,2]\n",
    "                    new[i,j,2] = t\n",
    "                elif h == 3:\n",
    "                    new[i,j,0] = p\n",
    "                    new[i,j,1] = q\n",
    "                    new[i,j,2] = x[i,j,2]\n",
    "                elif h == 4:\n",
    "                    new[i,j,0] = t\n",
    "                    new[i,j,1] = p\n",
    "                    new[i,j,2] = x[i,j,2]\n",
    "                elif h == 5:\n",
    "                    new[i,j,0] = x[i,j,2]\n",
    "                    new[i,j,1] = p\n",
    "                    new[i,j,2] = q\n",
    "\n",
    "    return new"
   ]
  },
  {
   "cell_type": "markdown",
   "metadata": {},
   "source": [
    "Plot the saturation of the astronaut image"
   ]
  },
  {
   "cell_type": "code",
   "execution_count": null,
   "metadata": {
    "pycharm": {
     "is_executing": true
    }
   },
   "outputs": [],
   "source": [
    "img_as_hsv = rgb_to_hsv(img)\n",
    "\n",
    "# your code\n",
    "plt.imshow(img_as_hsv[:,:,1])\n",
    "plt.show()"
   ]
  },
  {
   "cell_type": "markdown",
   "metadata": {},
   "source": [
    "Increase the saturation by a factor of 2, convert it back to RGB and plot the result."
   ]
  },
  {
   "cell_type": "code",
   "execution_count": null,
   "metadata": {
    "pycharm": {
     "is_executing": true
    }
   },
   "outputs": [],
   "source": [
    "# your code\n",
    "img_as_hsv[:,:,1] = img_as_hsv[:,:,1] * 2\n",
    "\n",
    "# normalize saturation to range [0,1]\n",
    "for i in range(0, img_as_hsv.shape[0]):\n",
    "    for j in range(0, img_as_hsv.shape[1]):\n",
    "        if img_as_hsv[i,j,1] > 1.:\n",
    "            img_as_hsv[i,j,1] = 1.\n",
    "\n",
    "img_as_rgb = hsv_to_rgb(img_as_hsv)\n",
    "\n",
    "plt.imshow(img_as_rgb)\n",
    "plt.show()"
   ]
  },
  {
   "cell_type": "markdown",
   "metadata": {
    "pycharm": {
     "name": "#%% md\n"
    }
   },
   "source": [
    "## Exercise 3 - Calculation [2 Points]\n",
    "\n",
    "In the figure below you can see the [CIE-XYZ](https://de.wikipedia.org/wiki/CIE-Normvalenzsystem) color space.\n",
    "![](https://upload.wikimedia.org/wikipedia/commons/4/49/CIE-Normfarbtafel.png)\n",
    "\n",
    "What are the approximate x,y,z values for the following Adobe RGB colors:\n",
    "* `(0, 0.5, 0.5)`\n",
    "* `(0.33, 0.33, 0.33)`\n",
    "\n",
    "A sodium-vapor lamp shines with double the intensity of a mercury-vapor lamp\n",
    ". The light from the sodium lamp only contains \n",
    "the spectral line at `589,00nm` and the light from the mercury lamp only the\n",
    "spectral line at `435,83 nm`.\n",
    "\n",
    "What color does a human experience? What are the approximate x,y,z values?\n"
   ]
  },
  {
   "cell_type": "code",
   "execution_count": null,
   "metadata": {
    "pycharm": {
     "is_executing": true,
     "name": "#%%\n"
    }
   },
   "outputs": [],
   "source": [
    "rgb1 = np.array([0, 0.5, 0.5])\n",
    "rgb2 = np.array([0.33, 0.33, 0.33])\n",
    "\n",
    "# Matrices (for CIERGB -> XYZ) from http://www.brucelindbloom.com/index.html?Eqn_RGB_XYZ_Matrix.html\n",
    "#mat_rgb2cie = np.dot((1/0.17697), np.array([[0.49, 0.31, 0.2], [0.17697, 0.8124, 0.01063], [0, 0.01, 0.99]]))\n",
    "#mat_cie2rgb = np.array([[0.41874, -0.15866, -0.082835], [-0.091169, 0.25243, 0.015708], [0.0009209, -0.0025498, 0.1786]])\n",
    "mat_rgb2cie = np.array([[0.488718, 0.3106803, 0.2006017], [0.1762044, 0.8129847, 0.0108109], [0, 0.0102048, 0.9897952]])\n",
    "mat_cie2rgb = np.array([[2.3706743, -0.9000405, -0.4706338], [-0.513885, 1.4253036, 0.0885814], [0.0052982, -0.0146949, 1.0093968]])\n",
    "\n",
    "ciexyz1 = np.matmul(mat_rgb2cie, rgb1)\n",
    "# create x,y,z values from [X Y Z]\n",
    "ciexyz1[0] = ciexyz1[0] / (ciexyz1[0] + ciexyz1[1] + ciexyz1[2]) \n",
    "ciexyz1[1] = ciexyz1[1] / (ciexyz1[0] + ciexyz1[1] + ciexyz1[2]) \n",
    "ciexyz1[2] = 1 - ciexyz1[0] - ciexyz1[1] \n",
    "#rgb1_new = np.matmul(mat_cie2rgb, ciexyz1)\n",
    "print(\"RGB1 in XYZ: \", end=\"\")\n",
    "print(ciexyz1)\n",
    "#print(rgb1_new)\n",
    "\n",
    "ciexyz2 = np.matmul(mat_rgb2cie, rgb2)\n",
    "# create x,y,z values from [X Y Z]\n",
    "ciexyz2[0] = ciexyz2[0] / (ciexyz2[0] + ciexyz2[1] + ciexyz2[2]) \n",
    "ciexyz2[1] = ciexyz2[1] / (ciexyz2[0] + ciexyz2[1] + ciexyz2[2]) \n",
    "ciexyz2[2] = 1 - ciexyz2[0] - ciexyz2[1] \n",
    "#rgb2_new = np.matmul(mat_cie2rgb, ciexyz2)\n",
    "print(\"RGB2 in XYZ: \", end=\"\")\n",
    "print(ciexyz2)\n",
    "#print(rgb2_new)"
   ]
  },
  {
   "cell_type": "code",
   "execution_count": null,
   "metadata": {
    "pycharm": {
     "is_executing": true
    }
   },
   "outputs": [],
   "source": []
  }
 ],
 "metadata": {
  "kernelspec": {
   "display_name": "Python 3",
   "language": "python",
   "name": "python3"
  },
  "language_info": {
   "codemirror_mode": {
    "name": "ipython",
    "version": 3
   },
   "file_extension": ".py",
   "mimetype": "text/x-python",
   "name": "python",
   "nbconvert_exporter": "python",
   "pygments_lexer": "ipython3",
   "version": "3.7.5"
  }
 },
 "nbformat": 4,
 "nbformat_minor": 4
}
