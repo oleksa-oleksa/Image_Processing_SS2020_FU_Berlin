{
 "cells": [
  {
   "cell_type": "markdown",
   "metadata": {},
   "source": [
    "# Image Processing SS 20 - Assignment - 01\n",
    "\n",
    "### Deadline is 29.4.2020 at 12:00\n",
    "\n",
    "Please solve the assignments together with a partner. Write the names of yourself and your partner and a link to your repository in a text-submission in the Whiteboard. You have to do this EVERY WEEK.\n",
    "I will run every notebook. Make sure the code runs without errors, when clicking `Kernel` -> `Restart & Run All`.\n"
   ]
  },
  {
   "cell_type": "markdown",
   "metadata": {},
   "source": [
    "## Introduction to Python / Numpy\n",
    "\n",
    "* [Learn Python in 15 minutes](https://learnxinyminutes.com/docs/python3/): We will use Python 3.\n",
    "* [Numpy for Matlab Users](https://docs.scipy.org/doc/numpy/user/numpy-for-matlab-users.html#general-purpose-equivalents)\n",
    "* [Numpy Quickstart](https://docs.scipy.org/doc/numpy/user/quickstart.html)\n",
    "\n",
    "## Libraries\n",
    "\n",
    "We will use the following libraries:\n",
    "\n",
    "* matplotlib\n",
    "* numpy\n",
    "* scipy\n",
    "* skimage\n"
   ]
  },
  {
   "cell_type": "markdown",
   "metadata": {},
   "source": [
    "# Exercise 0 - Setup Development Enviroment - [1 Point]\n",
    "\n",
    "Find a partner, follow the steps in the [README](https://github.com/BildverarbeitungSS20/Hausaufgaben/blob/master/README.md) and paste a link to your repository and your names into the KVV assignment box. Also include your names inside your solution.\n",
    "You do not need to upload any files to MyCampus Whiteboard. I will clone your repository."
   ]
  },
  {
   "cell_type": "code",
   "execution_count": null,
   "metadata": {
    "pycharm": {
     "name": "#%%\n"
    }
   },
   "outputs": [],
   "source": [
    "# display the plots inside the notebook\n",
    "%matplotlib inline"
   ]
  },
  {
   "cell_type": "code",
   "execution_count": null,
   "metadata": {
    "pycharm": {
     "name": "#%%\n"
    }
   },
   "outputs": [],
   "source": [
    "import numpy as np\n",
    "import matplotlib.pyplot as plt\n",
    "import pylab\n",
    "pylab.rcParams['figure.figsize'] = (12, 12)   # This makes the plot bigger"
   ]
  },
  {
   "cell_type": "markdown",
   "metadata": {},
   "source": [
    "The [skimage](http://scikit-image.org/) library comes with multiple useful test images.  Let's start with an image of an astronaut. "
   ]
  },
  {
   "cell_type": "code",
   "execution_count": null,
   "metadata": {
    "pycharm": {
     "name": "#%%\n"
    }
   },
   "outputs": [],
   "source": [
    "from skimage.data import astronaut"
   ]
  },
  {
   "cell_type": "code",
   "execution_count": null,
   "metadata": {
    "pycharm": {
     "name": "#%%\n"
    }
   },
   "outputs": [],
   "source": [
    "img = astronaut()   # Get the image\n",
    "print(img.shape)    # the dimension of the image\n",
    "print(img.dtype)    # the image type"
   ]
  },
  {
   "cell_type": "markdown",
   "metadata": {},
   "source": [
    "We have a `(512, 512, 3)` array of unsigned bytes. At `img[x, y]` there are three values for R,G and B."
   ]
  },
  {
   "cell_type": "markdown",
   "metadata": {},
   "source": [
    "We will always work with floating point arrays between 0 and 1. "
   ]
  },
  {
   "cell_type": "code",
   "execution_count": null,
   "metadata": {
    "pycharm": {
     "name": "#%%\n"
    }
   },
   "outputs": [],
   "source": [
    "img = img / 255."
   ]
  },
  {
   "cell_type": "markdown",
   "metadata": {},
   "source": [
    "Lets display the image."
   ]
  },
  {
   "cell_type": "code",
   "execution_count": null,
   "metadata": {
    "pycharm": {
     "name": "#%%\n"
    }
   },
   "outputs": [],
   "source": [
    "plt.imshow(img)\n",
    "plt.show()"
   ]
  },
  {
   "cell_type": "markdown",
   "metadata": {},
   "source": [
    "This is [Eileen Collins](https://en.wikipedia.org/wiki/Eileen_Collins). She was the first astronaut \n",
    " to fly the Space Shuttle through a complete 360-degree pitch maneuver. What an inspiring woman."
   ]
  },
  {
   "cell_type": "markdown",
   "metadata": {},
   "source": [
    "## Exercise 1 - Plot -       [1 Point]\n",
    "\n",
    "Plot the R, G and B channels separately."
   ]
  },
  {
   "cell_type": "code",
   "execution_count": null,
   "metadata": {
    "pycharm": {
     "name": "#%%\n"
    }
   },
   "outputs": [],
   "source": [
    "img_red = img.copy()\n",
    "img_red[:,:,1] = 0\n",
    "img_red[:,:,2] = 0\n",
    "\n",
    "img_green = img.copy()\n",
    "img_green[:,:,0] = 0\n",
    "img_green[:,:,2] = 0\n",
    "\n",
    "img_blue = img.copy()\n",
    "img_blue[:,:,0] = 0\n",
    "img_blue[:,:,1] = 0\n",
    "\n",
    "plt.figure(figsize=(18, 12))\n",
    "plt.subplot(131)\n",
    "plt.imshow(img_red)\n",
    "plt.subplot(132)\n",
    "plt.imshow(img_green)\n",
    "plt.subplot(133)\n",
    "plt.imshow(img_blue)\n",
    "plt.show()\n"
   ]
  },
  {
   "cell_type": "markdown",
   "metadata": {},
   "source": [
    "## Exercise 2 - RGB to HSV [6 Points]\n",
    "\n",
    "Implement the `rgb_to_hsv` and `hsv_to_rgb` functions. Don't use any color conversion functions from a library.\n"
   ]
  },
  {
   "cell_type": "code",
   "execution_count": null,
   "metadata": {
    "pycharm": {
     "name": "#%%\n"
    }
   },
   "outputs": [],
   "source": [
    "def rgb_to_hsv(x):\n",
    "    # maximum color channel\n",
    "    maxs = np.amax(x, -1)\n",
    "    # special case for 0,0,0\n",
    "    non_zero = maxs > 0\n",
    "    # peak to peak => max - min\n",
    "    ptp = np.ptp(x, -1)\n",
    "    # check that ptp is > 0 to avoid divions by zero\n",
    "    non_zero = ptp > 0\n",
    "\n",
    "    # max red\n",
    "    idx_red = (x[..., 0] == maxs) & non_zero\n",
    "    x[idx_red, 0] = 0.0 + (x[idx_red, 1] - x[idx_red, 2]) / ptp[idx_red]\n",
    "\n",
    "    # max green\n",
    "    idx_green = (x[..., 1] == maxs) & non_zero\n",
    "    x[idx_green, 0] = 2.0 + (x[idx_green, 2] - x[idx_green, 0]) / ptp[idx_green]\n",
    "\n",
    "    # max blue\n",
    "    idx_blue = (x[..., 2] == maxs) & non_zero\n",
    "    x[idx_blue, 0] = 4.0 + (x[idx_blue, 0] - x[idx_blue, 1]) / ptp[idx_blue]\n",
    "\n",
    "    # s = (MAX-MIN) / MAX\n",
    "    s = np.zeros_like(ptp)\n",
    "    s[non_zero] = ptp[non_zero] / maxs[non_zero]\n",
    "\n",
    "    # scale to [0,1]\n",
    "    x[..., 0] = (x[..., 0] / 6.0) % 1.0\n",
    "    x[..., 1] = s\n",
    "    x[..., 2] = maxs\n",
    "\n",
    "    return x"
   ]
  },
  {
   "cell_type": "code",
   "execution_count": null,
   "metadata": {
    "pycharm": {
     "name": "#%%\n"
    }
   },
   "outputs": [],
   "source": [
    "def hsv_to_rgb(x):\n",
    "    \"\"\"\n",
    "    Converts the numpy array `x` from HSV to the RGB. \n",
    "    \"\"\"\n",
    "    h = x[:,:, 0]\n",
    "    s = x[:,:, 1]\n",
    "    v = x[:,:, 2]\n",
    "\n",
    "    # we assume h to be in [0, 1]\n",
    "    h_i = (h * 6.0).astype(int)\n",
    "    f = (h * 6.0) - h_i\n",
    "\n",
    "    p = v * (1.0 - s)\n",
    "    q = v * (1.0 - s * f)\n",
    "    t = v * (1.0 - s * (1.0 - f))\n",
    "\n",
    "    r = np.empty_like(h)\n",
    "    g = np.empty_like(h)\n",
    "    b = np.empty_like(h)\n",
    "\n",
    "    cond = h_i % 6 == 0\n",
    "    r[cond] = v[cond]\n",
    "    g[cond] = t[cond]\n",
    "    b[cond] = p[cond]\n",
    "\n",
    "    cond = h_i == 1\n",
    "    r[cond] = q[cond]\n",
    "    g[cond] = v[cond]\n",
    "    b[cond] = p[cond]\n",
    "\n",
    "    cond = h_i == 2\n",
    "    r[cond] = p[cond]\n",
    "    g[cond] = v[cond]\n",
    "    b[cond] = t[cond]\n",
    "\n",
    "    cond = h_i == 3\n",
    "    r[cond] = p[cond]\n",
    "    g[cond] = q[cond]\n",
    "    b[cond] = v[cond]\n",
    "\n",
    "    cond = h_i == 4\n",
    "    r[cond] = t[cond]\n",
    "    g[cond] = p[cond]\n",
    "    b[cond] = v[cond]\n",
    "\n",
    "    cond = h_i == 5\n",
    "    r[cond] = v[cond]\n",
    "    g[cond] = p[cond]\n",
    "    b[cond] = q[cond]\n",
    "\n",
    "    # special case s is zero\n",
    "    cond = s == 0.0\n",
    "    r[cond] = v[cond]\n",
    "    g[cond] = v[cond]\n",
    "    b[cond] = v[cond]\n",
    "\n",
    "    x[:,:,0] = r\n",
    "    x[:,:,1] = g\n",
    "    x[:,:,2] = b\n",
    "    return x"
   ]
  },
  {
   "cell_type": "markdown",
   "metadata": {},
   "source": [
    "Plot the saturation of the astronaut image"
   ]
  },
  {
   "cell_type": "code",
   "execution_count": null,
   "metadata": {
    "pycharm": {
     "name": "#%%\n"
    }
   },
   "outputs": [],
   "source": [
    "img_as_hsv = rgb_to_hsv(img)\n",
    "\n",
    "plt.imshow(img_as_hsv[:,:,1], cmap='gray')\n",
    "plt.show()"
   ]
  },
  {
   "cell_type": "markdown",
   "metadata": {},
   "source": [
    "Increase the saturation by a factor of 2, convert it back to RGB and plot the result."
   ]
  },
  {
   "cell_type": "code",
   "execution_count": null,
   "metadata": {
    "pycharm": {
     "name": "#%%\n"
    }
   },
   "outputs": [],
   "source": [
    "img_as_hsv[:,:, 1] = (img_as_hsv[:,:, 1] * 2.0).clip(0.0, 1.0)\n",
    "img_as_rgb = hsv_to_rgb(img_as_hsv)\n",
    "\n",
    "plt.imshow(img_as_rgb)\n",
    "plt.show()"
   ]
  },
  {
   "cell_type": "markdown",
   "metadata": {},
   "source": [
    "## Exercise 3 - Calculation [2 Points]\n",
    "\n",
    "In the figure below you can see the [CIE-XYZ](https://de.wikipedia.org/wiki/CIE-Normvalenzsystem) color space.\n",
    "![](https://upload.wikimedia.org/wikipedia/commons/4/49/CIE-Normfarbtafel.png)\n",
    "\n",
    "What are the approximate x,y,z values for the following Adobe RGB colors:\n",
    "* `(0, 0.5, 0.5)`\n",
    "* `(0.33, 0.33, 0.33)`\n",
    "\n",
    "A sodium-vapor lamp shines with double the intensity of a mercury-vapor lamp\n",
    ". The light from the sodium lamp only contains \n",
    "the spectral line at `589,00nm` and the light from the mercury lamp only the\n",
    "spectral line at `435,83 nm`.\n",
    "\n",
    "What color does a human experience? What are the approximate x,y,z values?"
   ]
  },
  {
   "cell_type": "code",
   "execution_count": null,
   "metadata": {
    "pycharm": {
     "name": "#%%\n"
    }
   },
   "outputs": [],
   "source": [
    "T = np.array([[2.04159, -0.56501, -0.34473],[-0.96924, 1.87597, 0.04156],[0.01344, -0.11836, 1.01517]])"
   ]
  },
  {
   "cell_type": "code",
   "execution_count": null,
   "metadata": {
    "pycharm": {
     "name": "#%%\n"
    }
   },
   "outputs": [],
   "source": [
    "from numpy.linalg import inv\n",
    "\n",
    "ARGB1 = np.array([0, 0.5, 0.5])\n",
    "ARGB2 = np.array([0.33, 0.33, 0.33])\n",
    "\n",
    "XYZ1 = inv(T).dot(ARGB1)\n",
    "print(XYZ1)\n",
    "\n",
    "XYZ2 = inv(T).dot(ARGB2)\n",
    "print(XYZ2)"
   ]
  },
  {
   "cell_type": "markdown",
   "metadata": {},
   "source": [
    "For a sodium-vapor lamp and a mercury-vapor lamp a human does experience a bright red.\n",
    "The approximate x,y,z values are 0.5, 0.32, 0.18\n",
    "You can read the values directly from the XYZ-diagram. Connect the two spectral lines with a line.\n",
    "The resulting color is on this line.\n",
    "As the two colors mix and the sodium lamp has double intensity, the color that a human experience is nearer to\n",
    "the sodium lamp.\n",
    "It is exactly 1/3 of the total line length from the sodium spectral line away."
   ]
  }
 ],
 "metadata": {
  "kernelspec": {
   "display_name": "Python 3",
   "language": "python",
   "name": "python3"
  },
  "language_info": {
   "codemirror_mode": {
    "name": "ipython",
    "version": 3
   },
   "file_extension": ".py",
   "mimetype": "text/x-python",
   "name": "python",
   "nbconvert_exporter": "python",
   "pygments_lexer": "ipython3",
   "version": "3.5.2"
  }
 },
 "nbformat": 4,
 "nbformat_minor": 1
}
