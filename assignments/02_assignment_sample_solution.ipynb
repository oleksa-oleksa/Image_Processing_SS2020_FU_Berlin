{
 "cells": [
  {
   "cell_type": "markdown",
   "metadata": {},
   "source": [
    "# Image Processing SS 20 - Assignment - 02\n",
    "\n",
    "### Deadline is 6.5.2020 at 11:55am\n",
    "\n",
    "Please solve the assignments together with a partner.\n",
    "I will run every notebook. Make sure the code runs through. Select `Kernel` -> `Restart & Run All` to test it.\n"
   ]
  },
  {
   "cell_type": "markdown",
   "metadata": {},
   "source": [
    "# Exercise 1 - 10 Points\n",
    "\n",
    "Implement affine transformation with [bicubic interpolation](https://en.wikipedia.org/wiki/Bicubic_interpolation).\n",
    "Implement the functions `affine_transformation` and `bicubic_interpolation`. Apply some affine transformation of your choice and smooth the output using your bicubic interpolation."
   ]
  },
  {
   "cell_type": "code",
   "execution_count": null,
   "metadata": {},
   "outputs": [],
   "source": [
    "# display the plots inside the notebook\n",
    "%matplotlib inline"
   ]
  },
  {
   "cell_type": "code",
   "execution_count": null,
   "metadata": {},
   "outputs": [],
   "source": [
    "import numpy as np\n",
    "import matplotlib.pyplot as plt\n",
    "import pylab\n",
    "pylab.rcParams['figure.figsize'] = (12, 12)   # This makes the plot bigger"
   ]
  },
  {
   "cell_type": "markdown",
   "metadata": {},
   "source": [
    "The [skimage](http://scikit-image.org/) library comes with multiple useful test images.  Let's start with an image of an astronaut. "
   ]
  },
  {
   "cell_type": "code",
   "execution_count": null,
   "metadata": {},
   "outputs": [],
   "source": [
    "from skimage.data import astronaut, coffee\n",
    "from skimage.color import rgb2gray"
   ]
  },
  {
   "cell_type": "code",
   "execution_count": null,
   "metadata": {},
   "outputs": [],
   "source": [
    "# We use a gray image. All the algorithms should work with color images too.\n",
    "img = rgb2gray(coffee() / 255.)\n",
    "plt.imshow(img, cmap='gray')\n",
    "plt.show()"
   ]
  },
  {
   "cell_type": "code",
   "execution_count": null,
   "metadata": {},
   "outputs": [],
   "source": [
    "def derive_y(image):\n",
    "    \"\"\"Computes the derivative of the image w.r.t the y coordinate\"\"\"\n",
    "    derived_image = np.zeros_like(image)\n",
    "    for x in range(image.shape[1]):\n",
    "        for y in range(image.shape[0]):\n",
    "            if y + 1 < image.shape[0] and y - 1 > 0:\n",
    "                derived_image[y, x] = (image[y + 1, x] - image[y - 1, x]) / 2.0\n",
    "    return derived_image\n",
    "\n",
    "def derive_x(image):\n",
    "    \"\"\"Computes the derivative of the image w.r.t the x coordinate\"\"\"\n",
    "    derived_image = np.zeros_like(image)\n",
    "    for x in range(image.shape[1]):\n",
    "        for y in range(image.shape[0]):\n",
    "            if x + 1 < image.shape[1] and x - 1 > 0:\n",
    "                derived_image[y, x] = (image[y, x + 1] - image[y, x - 1]) / 2.0\n",
    "    return derived_image"
   ]
  },
  {
   "cell_type": "code",
   "execution_count": null,
   "metadata": {},
   "outputs": [],
   "source": [
    "dx_img = derive_x(img)\n",
    "dy_img = derive_y(img)"
   ]
  },
  {
   "cell_type": "code",
   "execution_count": null,
   "metadata": {},
   "outputs": [],
   "source": [
    "plt.figure(figsize=(18, 12))\n",
    "plt.subplot(131)\n",
    "plt.imshow(img, cmap='gray')\n",
    "plt.subplot(132)\n",
    "plt.imshow(dx_img, cmap='gray')\n",
    "plt.subplot(133)\n",
    "plt.imshow(dy_img, cmap='gray')\n",
    "plt.show()"
   ]
  },
  {
   "cell_type": "markdown",
   "metadata": {
    "pycharm": {
     "name": "#%% md\n"
    }
   },
   "source": [
    "Here are some sample affine transformations to be used later on"
   ]
  },
  {
   "cell_type": "code",
   "execution_count": null,
   "metadata": {},
   "outputs": [],
   "source": [
    "T_scale = np.array([\n",
    "    [1.75, 0, 0],\n",
    "    [0, 1.75, 0],\n",
    "    [0, 0, 1],\n",
    "])"
   ]
  },
  {
   "cell_type": "code",
   "execution_count": null,
   "metadata": {},
   "outputs": [],
   "source": [
    "T_affine = np.array([\n",
    "    [1, 0.3, 0],\n",
    "    [-0.3, 1, 0],\n",
    "    [0, 0, 1],\n",
    "])"
   ]
  },
  {
   "cell_type": "code",
   "execution_count": null,
   "metadata": {},
   "outputs": [],
   "source": [
    "# you can use this function to invert the matrices\n",
    "np.linalg.inv(T_scale)"
   ]
  },
  {
   "cell_type": "code",
   "execution_count": null,
   "metadata": {},
   "outputs": [],
   "source": [
    "def affine_transformation(img, matrix, interpolation = True):\n",
    "    XY=np.indices((img.shape[0], img.shape[1])).reshape(2, -1)\n",
    "    # append homogenous coordinate\n",
    "    XY = np.concatenate([XY, np.ones((1, XY.shape[1]))], axis=0)\n",
    "    inv_t = np.linalg.inv(matrix)\n",
    "    coords = inv_t @ XY\n",
    "    # not needed for affine transformations, but for perspective transformations\n",
    "    coords = np.true_divide(coords[:2, :], coords[[-1], :])\n",
    "    if interpolation:\n",
    "        return bicubic_interpolation(img, coords)\n",
    "\n",
    "    coords = coords.astype(int)\n",
    "    img_new = np.zeros_like(img).flatten()\n",
    "    i = 0\n",
    "    for x in range(img_new.shape[-1]):\n",
    "        if 0 <= coords[0, i] < img.shape[0] and 0 <= coords[1, i] < img.shape[1]:\n",
    "            img_new[i] = img[coords[0, i], coords[1, i]]\n",
    "        i+=1\n",
    "    return img_new.reshape(img.shape)\n",
    "    "
   ]
  },
  {
   "cell_type": "code",
   "execution_count": null,
   "metadata": {},
   "outputs": [],
   "source": [
    "def bicubic_interpolation(img, coords):\n",
    "    dx_img = derive_x(img)\n",
    "    dy_img = derive_y(img)\n",
    "    dxy_img = derive_x(dy_img)\n",
    "    result = np.zeros_like(img)\n",
    "    result = result.flatten()\n",
    "    X = np.zeros([16, result.shape[-1]])\n",
    "\n",
    "    j = 0\n",
    "    floor_coords = np.floor(coords).astype(int)\n",
    "    ceil_coords = np.ceil(coords).astype(int)\n",
    "\n",
    "    for i in range(coords.shape[-1]):\n",
    "        x_val_floor = floor_coords[1, i]\n",
    "        x_val_ceil = ceil_coords[1, i]\n",
    "        y_val_floor = floor_coords[0, i]\n",
    "        y_val_ceil = ceil_coords[0, i]\n",
    "\n",
    "        if 0 <= x_val_floor < img.shape[1] and 0 <= x_val_ceil < img.shape[1] and 0 <= y_val_floor < img.shape[0] and 0 <= y_val_ceil < img.shape[0]:\n",
    "            X[:, i] = np.array([\n",
    "                img[y_val_floor][x_val_floor], img[y_val_ceil][x_val_floor], img[y_val_floor][x_val_ceil], img[y_val_ceil][x_val_ceil],\n",
    "                dx_img[y_val_floor][x_val_floor], dx_img[y_val_ceil][x_val_floor], dx_img[y_val_floor][x_val_ceil], dx_img[y_val_ceil][x_val_ceil],\n",
    "                dy_img[y_val_floor][x_val_floor], dy_img[y_val_ceil][x_val_floor], dy_img[y_val_floor][x_val_ceil], dy_img[y_val_ceil][x_val_ceil],\n",
    "                dxy_img[y_val_floor][x_val_floor], dxy_img[y_val_ceil][x_val_floor], dxy_img[y_val_floor][x_val_ceil], dxy_img[y_val_ceil][x_val_ceil]\n",
    "            ])\n",
    "        j+=1\n",
    "\n",
    "    inv_matrix = np.array([\n",
    "            [ 1,  0,  0,  0,  0,  0,  0,  0,  0,  0,  0,  0,  0,  0,  0,  0],\n",
    "            [ 0,  0,  0,  0,  1,  0,  0,  0,  0,  0,  0,  0,  0,  0,  0,  0],\n",
    "            [-3,  3,  0,  0, -2, -1,  0,  0,  0,  0,  0,  0,  0,  0,  0,  0],\n",
    "            [ 2, -2,  0,  0,  1,  1,  0,  0,  0,  0,  0,  0,  0,  0,  0,  0],\n",
    "            [ 0,  0,  0,  0,  0,  0,  0,  0,  1,  0,  0,  0,  0,  0,  0,  0],\n",
    "            [ 0,  0,  0,  0,  0,  0,  0,  0,  0,  0,  0,  0,  1,  0,  0,  0],\n",
    "            [ 0,  0,  0,  0,  0,  0,  0,  0, -3,  3,  0,  0, -2, -1,  0,  0],\n",
    "            [ 0,  0,  0,  0,  0,  0,  0,  0,  2, -2,  0,  0,  1,  1,  0,  0],\n",
    "            [-3,  0,  3,  0,  0,  0,  0,  0, -2,  0, -1,  0,  0,  0,  0,  0],\n",
    "            [ 0,  0,  0,  0, -3,  0,  3,  0,  0,  0,  0,  0, -2,  0, -1,  0],\n",
    "            [ 9, -9, -9,  9,  6,  3, -6, -3,  6, -6,  3, -3,  4,  2,  2,  1],\n",
    "            [-6,  6,  6, -6, -3, -3,  3,  3, -4,  4, -2,  2, -2, -2, -1, -1],\n",
    "            [ 2,  0, -2,  0,  0,  0,  0,  0,  1,  0,  1,  0,  0,  0,  0,  0],\n",
    "            [ 0,  0,  0,  0,  2,  0, -2,  0,  0,  0,  0,  0,  1,  0,  1,  0],\n",
    "            [-6,  6,  6, -6, -4, -2,  4,  2, -3,  3, -3,  3, -2, -1, -2, -1],\n",
    "            [ 4, -4, -4,  4,  2,  2, -2, -2,  2, -2,  2, -2,  1,  1,  1,  1]\n",
    "    ])\n",
    "\n",
    "    alpha = inv_matrix @ X\n",
    "    # 2 x N\n",
    "    diffs = coords - floor_coords\n",
    "\n",
    "    x = np.array([np.ones(diffs.shape[1]),\n",
    "                      diffs[1, :],\n",
    "                      np.power(diffs[1, :], 2.0),\n",
    "                      np.power(diffs[1, :], 3.0)])\n",
    "    y = np.array([np.ones(diffs.shape[1]),\n",
    "                      diffs[0, :],\n",
    "                      np.power(diffs[0, :], 2.0),\n",
    "                      np.power(diffs[0, :], 3.0)])\n",
    "    for i in range(result.shape[-1]):\n",
    "        result[i] = x[:, i] @ alpha[:, i].reshape(4, 4) @ y[:, i].T\n",
    "    result = result.reshape(img.shape)\n",
    "    return result"
   ]
  },
  {
   "cell_type": "markdown",
   "metadata": {
    "pycharm": {
     "name": "#%% md\n"
    }
   },
   "source": [
    "Now show the results with and without smoothing."
   ]
  },
  {
   "cell_type": "code",
   "execution_count": null,
   "metadata": {},
   "outputs": [],
   "source": [
    "img_scale = affine_transformation(img, T_scale)\n",
    "img_scale_no_interpolation = affine_transformation(img, T_scale, False)\n",
    "img_affine = affine_transformation(img, T_affine)\n",
    "img_affine_no_interpolation = affine_transformation(img, T_affine, False)"
   ]
  },
  {
   "cell_type": "code",
   "execution_count": null,
   "metadata": {},
   "outputs": [],
   "source": [
    "plt.imshow(img_scale_no_interpolation, cmap='gray')\n",
    "plt.show()\n",
    "plt.imshow(img_scale, cmap='gray')\n",
    "plt.show()"
   ]
  },
  {
   "cell_type": "code",
   "execution_count": null,
   "metadata": {
    "pycharm": {
     "name": "#%%\n"
    }
   },
   "outputs": [],
   "source": [
    "plt.imshow(img_affine_no_interpolation, cmap='gray')\n",
    "plt.show()\n",
    "plt.imshow(img_affine, cmap='gray')\n",
    "plt.show()"
   ]
  }
 ],
 "metadata": {
  "kernelspec": {
   "display_name": "Python 3",
   "language": "python",
   "name": "python3"
  },
  "language_info": {
   "codemirror_mode": {
    "name": "ipython",
    "version": 3
   },
   "file_extension": ".py",
   "mimetype": "text/x-python",
   "name": "python",
   "nbconvert_exporter": "python",
   "pygments_lexer": "ipython3",
   "version": "3.7.7"
  }
 },
 "nbformat": 4,
 "nbformat_minor": 1
}
