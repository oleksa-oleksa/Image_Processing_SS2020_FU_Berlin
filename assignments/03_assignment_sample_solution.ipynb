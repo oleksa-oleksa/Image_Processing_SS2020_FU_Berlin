{
 "cells": [
  {
   "cell_type": "markdown",
   "metadata": {},
   "source": [
    "# Image Processing SS 20 - Assignment - 03\n",
    "\n",
    "### Deadline is 13.5.2020 at 11:55am\n",
    "\n",
    "Please solve the assignments together with a partner.\n",
    "I will run every notebook. Make sure the code runs through. Select `Kernel` -> `Restart & Run All` to test it.\n",
    "Please strip the output from the cells, either select `Cell` -> `All Output` -> `Clear` or use the `nb_strip_output.py` script / git hook."
   ]
  },
  {
   "cell_type": "code",
   "execution_count": null,
   "metadata": {},
   "outputs": [],
   "source": [
    "# display the plots inside the notebook\n",
    "%matplotlib inline"
   ]
  },
  {
   "cell_type": "code",
   "execution_count": null,
   "metadata": {},
   "outputs": [],
   "source": [
    "import numpy as np\n",
    "import matplotlib.pyplot as plt\n",
    "import pylab\n",
    "import ssl\n",
    "from urllib.request import urlopen\n",
    "from skimage.data import astronaut\n",
    "from skimage.color import rgb2gray, rgb2hsv, hsv2rgb\n",
    "\n",
    "pylab.rcParams['figure.figsize'] = (12, 12)   # This makes the plot bigger"
   ]
  },
  {
   "cell_type": "code",
   "execution_count": null,
   "metadata": {},
   "outputs": [],
   "source": [
    "img = astronaut() / 255.\n",
    "img_hsv = rgb2hsv(img)\n",
    "img_gray = rgb2gray(img)"
   ]
  },
  {
   "cell_type": "markdown",
   "metadata": {},
   "source": [
    "# Exercise 1 - Implement a Histogram Mapping - 1 Points"
   ]
  },
  {
   "cell_type": "code",
   "execution_count": null,
   "metadata": {},
   "outputs": [],
   "source": [
    "def norm_cdf(arr):\n",
    "    return arr / arr[-1]"
   ]
  },
  {
   "cell_type": "code",
   "execution_count": null,
   "metadata": {},
   "outputs": [],
   "source": [
    "from math import*\n",
    "\n",
    "def gamma_mapping(gamma):\n",
    "    \"\"\"\n",
    "    Returns a 1-dimensional numpy array. The value of the array at the n-position \n",
    "    is `(n/len(array))**gamma`.\n",
    "    \"\"\"\n",
    "    return norm_cdf(np.linspace(0, 1, 256)**gamma)\n",
    "\n",
    "\n",
    "def sigmoid_mapping(gain = 10, cutoff = 0.5):\n",
    "    \"\"\"\n",
    "    Returns a 1-dimensional numpy array. The value of the array at the n-position \n",
    "    is  `1/(1 + exp^(gain*(cutoff - (n/len(array)))))`.\n",
    "    \"\"\"\n",
    "\n",
    "    return 1 / (1 + np.exp(gain * (cutoff - np.linspace(0, 1, 256))))"
   ]
  },
  {
   "cell_type": "code",
   "execution_count": null,
   "metadata": {},
   "outputs": [],
   "source": [
    "plt.plot(gamma_mapping(1.2))\n",
    "plt.show()\n",
    "\n",
    "plt.plot(sigmoid_mapping())\n",
    "plt.show()"
   ]
  },
  {
   "cell_type": "markdown",
   "metadata": {},
   "source": [
    "# Exercise 2 - Histogram Transformation - 2 Points"
   ]
  },
  {
   "cell_type": "code",
   "execution_count": null,
   "metadata": {},
   "outputs": [],
   "source": [
    "def apply_pixel_mapping(image, mapping):\n",
    "    \"\"\"Returns the image transformed according to the mapping array. \n",
    "       `mapping` is a one dimensional numpy array. `image` can be 2 or 3-dimensional.\n",
    "       The values of the image are in range 0 to 1. \n",
    "       If the mapping has for example 255 items, then all pixel with a value from 0 to 1/255 are assigned to \n",
    "       the value mapping[0]. If the pixel is between n / 255 and (n+1) / 255 then the value in the output image should \n",
    "       be mapping[n]\n",
    "    \"\"\"\n",
    "    \n",
    "    resImage = np.zeros_like(image)\n",
    "    \n",
    "    num_rows = image.shape[0] # number of pixel horizontal\n",
    "    num_cols = image.shape[1] # number of pixel vertical\n",
    "    \n",
    "    if len(image.shape) == 2:\n",
    "        for row in range(num_rows):\n",
    "            for col in range(num_cols):\n",
    "                resImage[row,col] = mapping[floor(image[row,col]*(len(mapping)-1))]\n",
    "            \n",
    "    elif len(image.shape) == 3:\n",
    "        num_channel = image.shape[2]\n",
    "        for row in range(num_rows):\n",
    "            for col in range(num_cols):\n",
    "                for channel in range (num_channel):\n",
    "                    resImage[row,col,channel] = mapping[floor(image[row,col,channel]*(len(mapping)-1))]\n",
    "            \n",
    "    return resImage"
   ]
  },
  {
   "cell_type": "code",
   "execution_count": null,
   "metadata": {},
   "outputs": [],
   "source": [
    "# you can test your `apply_pixel_mapping` function\n",
    "# The first image should look lighter. The second and third should be the same image.\n",
    "img_gamma05 = apply_pixel_mapping(img, gamma_mapping(0.5))\n",
    "plt.subplot(131)\n",
    "plt.imshow(img_gamma05, cmap='gray')\n",
    "plt.subplot(132)\n",
    "plt.imshow(apply_pixel_mapping(img_gamma05, gamma_mapping(2)), cmap='gray')\n",
    "plt.subplot(133)\n",
    "plt.imshow(img, cmap='gray')\n",
    "plt.show()"
   ]
  },
  {
   "cell_type": "markdown",
   "metadata": {},
   "source": [
    "# Exercise 3 - Implement Histogram Equalisation - 2 Points\n",
    "\n",
    "Equalise the image given image so that the histogram is mostly unifrom distributed.\n",
    "You can use `np.histogram` and `np.cumsum`. Checkout the documentation of `np.histogram`, it might have useful optional arguments."
   ]
  },
  {
   "cell_type": "code",
   "execution_count": null,
   "metadata": {},
   "outputs": [],
   "source": [
    "ssl._create_default_https_context = ssl._create_unverified_context\n",
    "f = urlopen(\"https://dl.dropboxusercontent.com/s/ahj4nff6ba8b8sg/lok.jpg?dl=0\")\n",
    "train = rgb2gray(plt.imread(f, format='jpeg'))\n",
    "plt.imshow(train, cmap='gray')\n",
    "plt.show()"
   ]
  },
  {
   "cell_type": "code",
   "execution_count": null,
   "metadata": {},
   "outputs": [],
   "source": [
    "hist = np.histogram(train,bins=255,range=(0.0, 1.0), density=True) # get the histogramm of the image\n",
    "\n",
    "equalisation_mapping = np.zeros(255)  # calculate the right mapping\n",
    "summ = 0\n",
    "\n",
    "for i in range(0,255):\n",
    "    summ += hist[0][i]\n",
    "    equalisation_mapping[i] = summ"
   ]
  },
  {
   "cell_type": "code",
   "execution_count": null,
   "metadata": {},
   "outputs": [],
   "source": [
    "img_equalised = apply_pixel_mapping(train, equalisation_mapping)"
   ]
  },
  {
   "cell_type": "code",
   "execution_count": null,
   "metadata": {},
   "outputs": [],
   "source": [
    "hist_of_equalised = np.histogram(img_equalised,bins=255,range=(0.0, 1.0), density=True) # get the histogramm of the equalised image\n"
   ]
  },
  {
   "cell_type": "code",
   "execution_count": null,
   "metadata": {},
   "outputs": [],
   "source": [
    "plt.subplot(131)\n",
    "plt.plot(np.cumsum(hist[0])) #cumulativ\n",
    "plt.plot(hist[0])#histogram\n",
    "plt.subplot(132)\n",
    "plt.plot(equalisation_mapping)\n",
    "plt.subplot(133)\n",
    "plt.plot(np.cumsum(hist_of_equalised[0]))#cumulativ\n",
    "plt.plot(hist_of_equalised[0])#histogram\n",
    "plt.show()"
   ]
  },
  {
   "cell_type": "code",
   "execution_count": null,
   "metadata": {},
   "outputs": [],
   "source": [
    "plt.subplot(121)\n",
    "plt.imshow(img_equalised, cmap='gray')\n",
    "plt.subplot(122)\n",
    "plt.imshow(train, cmap='gray')\n",
    "plt.show()"
   ]
  },
  {
   "cell_type": "markdown",
   "metadata": {},
   "source": [
    "# Exercise 4 - Implement a hipster filter - 2 Points\n",
    "\n",
    "1. Convert the image to HSV \n",
    "1. Transform the V-Channel with `sigmoid_mapping` and gain = 10.\n",
    "1. Transform the S-Channel with `sigmoid_mapping` and gain = 10, cufoff=0.35\n",
    "1. Convert it back to RGB and add the color hsv(0.05, 1, 1) to the image weight by $0.5\\cdot(1 - V)$, where V is the resulting V-Channel from step 2.\n",
    "\n",
    "You can test the code with your own image or the `astronaut()` test image.\n",
    "If you choose a custom image, you can included it through the `urllib2` library as done with the lok image.\n",
    "You can use the `rgb2hsv` and `hsv2rgb` functions from the skimage library."
   ]
  },
  {
   "cell_type": "code",
   "execution_count": null,
   "metadata": {},
   "outputs": [],
   "source": [
    "import copy\n",
    "from skimage.data import astronaut\n",
    "\n",
    "img1 = astronaut()   # Get the image\n",
    "\n",
    "def apply_pixel_mapping_onechannel(image, mapping, channel):\n",
    "    resImage = copy.deepcopy(image)\n",
    "    \n",
    "    num_rows = image.shape[0] # number of pixel horizontal\n",
    "    num_cols = image.shape[1] # number of pixel vertical\n",
    "    num_channel = image.shape[2]\n",
    "    \n",
    "    for row in range(num_rows):\n",
    "        for col in range(num_cols):\n",
    "            resImage[row,col,channel] = mapping[floor(image[row,col,channel]*(len(mapping)-1))]\n",
    "    return resImage\n",
    "\n",
    "img2 = rgb2hsv(img1)\n",
    "img2 = apply_pixel_mapping_onechannel(img2,sigmoid_mapping(20,),2)\n",
    "plt.imshow(hsv2rgb(img2))     # show the result from step 2\n",
    "plt.show()"
   ]
  },
  {
   "cell_type": "code",
   "execution_count": null,
   "metadata": {},
   "outputs": [],
   "source": [
    "img3 = apply_pixel_mapping_onechannel(img2,sigmoid_mapping(10,0.35),1)\n",
    "\n",
    "plt.imshow(hsv2rgb(img3))     # show the result from step 3\n",
    "plt.show()"
   ]
  },
  {
   "cell_type": "code",
   "execution_count": null,
   "metadata": {},
   "outputs": [],
   "source": [
    "# Convert it back to RGB and add the color hsv(0.05, 1, 1) to the image \n",
    "# weight by 0.5⋅(1−V), where V is the resulting V-Channel from step 2.\n",
    "\n",
    "def apply_pixel_redish(image):\n",
    "    \n",
    "    num_rows = image.shape[0] # number of pixel horizontal\n",
    "    num_cols = image.shape[1] # number of pixel vertical\n",
    "    \n",
    "    color = hsv2rgb([[[0.05,1,1]]])\n",
    "    \n",
    "    for row in range(num_rows):\n",
    "        for col in range(num_cols):\n",
    "            image[row,col,0] += color[0,0,0]*0.5*(1-img2[row,col,2])\n",
    "            image[row,col,1] += color[0,0,1]*0.5*(1-img2[row,col,2])\n",
    "            image[row,col,2] += color[0,0,2]*0.5*(1-img2[row,col,2])\n",
    "    return image\n",
    "\n",
    "img4 = apply_pixel_redish(hsv2rgb(img3))\n",
    "\n",
    "plt.imshow((img4))      # show the result from step 4\n",
    "plt.show()"
   ]
  },
  {
   "cell_type": "code",
   "execution_count": null,
   "metadata": {},
   "outputs": [],
   "source": [
    "# plot the original image\n",
    "plt.imshow(img1)"
   ]
  },
  {
   "cell_type": "markdown",
   "metadata": {},
   "source": [
    "# Exercise 5 - Implement your own hipster filter - 3 Points\n",
    "\n",
    "You have mostly complete artistic freedom what filter you implement. \n",
    "The filter should not be trivial. Converting the image only to grayscale is not enough ;) \n",
    "You should show off your knowledge of histogram transformations. (Use at least 2 histogram transformations)"
   ]
  },
  {
   "cell_type": "code",
   "execution_count": null,
   "metadata": {},
   "outputs": [],
   "source": [
    "#random landscape picture:\n",
    "g = urlopen(\"http://www.pustertal.net/images/fotos/landschaft-pustertal.jpg\")\n",
    "land = plt.imread(g, format='jpeg')\n",
    "img= land\n",
    "\n",
    "def minAndsndmin(array):\n",
    "    minn=array[0]\n",
    "    sndmin = array[1]\n",
    "    for i in range(1,len(array)):\n",
    "        if array[i] < minn:\n",
    "            sndmin = minn\n",
    "            minn = array[i]\n",
    "        elif array[i]< sndmin:\n",
    "            sndmin = array[i]\n",
    "    return [minn,sndmin]\n",
    "\n",
    "#add a vignetting effect to the immage (not perfectly round)\n",
    "def vignetting(image):\n",
    "    image = rgb2hsv(image)\n",
    "    \n",
    "    num_rows = image.shape[0] \n",
    "    num_cols = image.shape[1] \n",
    "    \n",
    "    for row in range(num_rows):\n",
    "        for col in range(num_cols):\n",
    "            corners = [row,abs(num_rows-row),col,abs(num_cols-col)]\n",
    "            distToCorners = minAndsndmin(corners)\n",
    "            vignettdist = (distToCorners[0]*sqrt(distToCorners[0]**2+distToCorners[1]**2))/100\n",
    "            image[row,col,2] -= 2000/(vignettdist**2+4000)\n",
    "            if image[row,col,2] < 0:\n",
    "                 image[row,col,2] = 0\n",
    "    \n",
    "    return hsv2rgb(image)\n",
    "\n",
    "#increase saturation (higher values exponentially more)\n",
    "def lomostyle_saturation(image):\n",
    "    image = rgb2hsv(image)\n",
    "    array = np.zeros(255)\n",
    "    #calculate mapping\n",
    "    for i in range(len(array)):\n",
    "        intensity = i/200 + exp(i/255)/100\n",
    "        if intensity > 1:\n",
    "            intensity = 1\n",
    "        array[i] = intensity\n",
    "\n",
    "    image = apply_pixel_mapping_onechannel(image, array, 1)\n",
    "    \n",
    "    return hsv2rgb(image)\n",
    "\n",
    "#increase brightness of upper-mids and heights, decrease lower\n",
    "def lomostyle_brightness(image):\n",
    "    image = rgb2hsv(image)\n",
    "    array = np.zeros(255)\n",
    "    #calculate mapping\n",
    "    for i in range(len(array)):\n",
    "        brightness = (0.0001277/4*i**2)+0.1\n",
    "        if brightness > 1:\n",
    "            brightness = 1\n",
    "        array[i] = brightness\n",
    "\n",
    "    image = apply_pixel_mapping_onechannel(image, array, 2)\n",
    "    \n",
    "    return hsv2rgb(image)\n",
    "#calculate blue image\n",
    "def lomostyle_hue(image):\n",
    "    image = rgb2hsv(image)\n",
    "    array = np.zeros(255)\n",
    "    \n",
    "    for i in range(len(array)):\n",
    "        hue = 1/2+0.08*i/255\n",
    "        if hue > 1:\n",
    "            hue = 1\n",
    "        array[i] = hue\n",
    "\n",
    "    image = apply_pixel_mapping_onechannel(image, array, 0)    \n",
    "    return hsv2rgb(image)\n",
    "#merge color of blue image with normal image\n",
    "def add_imagecolors(image1, image2):\n",
    "    num_rows = image1.shape[0] \n",
    "    num_cols = image1.shape[1] \n",
    "    num_channels = image1.shape[2]\n",
    "    hsv_img=rgb2hsv(image1)\n",
    "    \n",
    "    for row in range(num_rows):\n",
    "        for col in range(num_cols):\n",
    "            for channel in range(num_channels):\n",
    "                image1[row,col,channel] += 0.8 * image2[row,col,channel] * (1-hsv_img[row,col,2])\n",
    "                if image1[row,col,channel]>1:\n",
    "                    image1[row,col,channel] = 1\n",
    "    return image1\n",
    "#original\n",
    "plt.imshow(img)     \n",
    "plt.show() \n",
    "#vignetting\n",
    "img = vignetting(img)\n",
    "plt.imshow(img)     \n",
    "plt.show()\n",
    "#saturation1\n",
    "img = lomostyle_saturation(img)\n",
    "plt.imshow(img)     \n",
    "plt.show()\n",
    "#brightness\n",
    "img = lomostyle_brightness(img)\n",
    "plt.imshow(img)     \n",
    "plt.show()\n",
    "#calculate blue image\n",
    "img_blue = lomostyle_hue(img)\n",
    "plt.imshow(img_blue)     \n",
    "plt.show()\n",
    "#merge blue with normal\n",
    "img = add_imagecolors(img,img_blue)\n",
    "plt.imshow(img)     \n",
    "plt.show()\n",
    "#saturation2\n",
    "img = lomostyle_saturation(img)\n",
    "plt.imshow(img)     \n",
    "plt.show()\n"
   ]
  },
  {
   "cell_type": "code",
   "execution_count": null,
   "metadata": {},
   "outputs": [],
   "source": []
  }
 ],
 "metadata": {
  "kernelspec": {
   "display_name": "Python 3",
   "language": "python",
   "name": "python3"
  },
  "language_info": {
   "codemirror_mode": {
    "name": "ipython",
    "version": 3
   },
   "file_extension": ".py",
   "mimetype": "text/x-python",
   "name": "python",
   "nbconvert_exporter": "python",
   "pygments_lexer": "ipython3",
   "version": "3.6.4"
  }
 },
 "nbformat": 4,
 "nbformat_minor": 1
}
