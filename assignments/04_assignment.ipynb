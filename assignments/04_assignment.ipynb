{
 "cells": [
  {
   "cell_type": "markdown",
   "metadata": {},
   "source": [
    "# Image Processing SS 20 - Assignment - 04\n",
    "\n",
    "### Deadline is 20.5.2020 at 11:55am\n",
    "\n",
    "Please solve the assignments together with a partner.\n",
    "I will run every notebook. Make sure the code runs through. Select `Kernel` -> `Restart & Run All` to test it.\n",
    "Please strip the output from the cells, either select `Cell` -> `All Output` -> `Clear` or use the `nb_strip_output.py` script / git hook."
   ]
  },
  {
   "cell_type": "code",
   "execution_count": 1,
   "metadata": {},
   "outputs": [],
   "source": [
    "# display the plots inside the notebook\n",
    "%matplotlib inline"
   ]
  },
  {
   "cell_type": "code",
   "execution_count": 2,
   "metadata": {},
   "outputs": [],
   "source": [
    "import numpy as np\n",
    "import matplotlib.pyplot as plt\n",
    "import pylab\n",
    "import random\n",
    "from io import BytesIO\n",
    "from PIL import Image\n",
    "\n",
    "pylab.rcParams['figure.figsize'] = (12, 12)   # This makes the plot bigger"
   ]
  },
  {
   "cell_type": "markdown",
   "metadata": {},
   "source": [
    "# Exercise 1 - Qualify sharpness and noise - 5 Points\n",
    "\n",
    "Determine the noise and sharpness in the images. Plot image number vs noise\n",
    "\n",
    "Please download sample picture from [here](http://sipi.usc.edu/database/misc.zip) and place them next to your assignment (inside the misc folder)."
   ]
  },
  {
   "cell_type": "code",
   "execution_count": 3,
   "metadata": {},
   "outputs": [],
   "source": [
    "# Load the pictures here\n",
    "sample_images = []\n",
    "direc = 'misc/' # directory of the sample pictures relative to your notebook\n",
    "for number in [1,3,5,6]:\n",
    "    sample_images.append(\n",
    "        np.array(Image.open(direc+'4.2.0'+str(number)+'.tiff'))\n",
    "    )\n",
    "for name in ['house']:\n",
    "    sample_images.append(\n",
    "        np.array(Image.open(direc+name+'.tiff'))\n",
    "    )"
   ]
  },
  {
   "cell_type": "code",
   "execution_count": 4,
   "metadata": {},
   "outputs": [
    {
     "data": {
      "text/plain": [
       "<BarContainer object of 5 artists>"
      ]
     },
     "execution_count": 4,
     "metadata": {},
     "output_type": "execute_result"
    },
    {
     "data": {
      "image/png": "[encoded data removed]",
      "text/plain": [
       "<Figure size 864x864 with 1 Axes>"
      ]
     },
     "metadata": {
      "needs_background": "light"
     },
     "output_type": "display_data"
    }
   ],
   "source": [
    "from skimage.color import rgb2grey\n",
    "\n",
    "def qualify_noise(img):\n",
    "    \"\"\"Qualify the noise based on the std of a gaussian model.\n",
    "       You may find a window that is contant in the images.\n",
    "    \"\"\"\n",
    "    # your code here\n",
    "    \"\"\"\n",
    "    slide 42 lecture \"Image Processing\"\n",
    "\n",
    "    How can we measure the amount of noise in an image?\n",
    "    We don’t know whether the changes of pixel brightness are due to texture or noise!\n",
    "    Let’s first assume we know where in the image we have a homogeneous patch \n",
    "    (i.e.an image region with no texture, edges, gradients, etc).\n",
    "    \n",
    "    For estimating Gaussian Noise we have to calculate 2 parameters: sigma und mu\n",
    "    The parameter mu  is the mean or expectation of the distribution (and also its median and mode); \n",
    "    and sigma  is its standard deviation. \n",
    "    The variance of the distribution is sigma^2\n",
    "        \n",
    "    Numpy function std: Returns the standard deviation, a measure of the spread of a distribution, \n",
    "    of the array elements. The standard deviation is computed for the flattened array by default, \n",
    "    otherwise over the specified axis.\n",
    "    \"\"\"\n",
    "    grey_img = rgb2grey(img)\n",
    "    # mu = np.mean(img)\n",
    "    std = np.std(grey_img, dtype = np.float32) \n",
    "    return std\n",
    "    \n",
    "\n",
    "plt.bar(range(len(sample_images)), [qualify_noise(i) for i in sample_images])"
   ]
  },
  {
   "cell_type": "code",
   "execution_count": null,
   "metadata": {},
   "outputs": [],
   "source": [
    "def qualify_sharpness(img):\n",
    "    \"\"\"Qualify the sharpness based on the average pixel differences.\"\"\"\n",
    "    # your code here\n",
    "    return random.randint(0, 10)\n",
    "plt.bar(range(len(sample_images)), [qualify_sharpness(i) for i in sample_images])"
   ]
  },
  {
   "cell_type": "markdown",
   "metadata": {},
   "source": [
    "Does the result match your expectations? If not what processing step can be done?"
   ]
  },
  {
   "cell_type": "markdown",
   "metadata": {},
   "source": [
    "# Exercise 2 - SSIM JPEG Compression - 5 Points"
   ]
  },
  {
   "cell_type": "code",
   "execution_count": null,
   "metadata": {},
   "outputs": [],
   "source": [
    "def jpeg_enocde(img, quality):\n",
    "    pil_img = Image.fromarray(img)\n",
    "    buffer = BytesIO()\n",
    "    pil_img.save(buffer, \"JPEG\", quality=quality)\n",
    "    return buffer\n",
    "\n",
    "def jpeg_decode(buffer):\n",
    "    img = Image.open(buffer)\n",
    "    return np.array(img)\n",
    "\n",
    "def jpeg_quality_filter(img, quality):\n",
    "    as_jpeg = jpeg_enocde(img, quality)\n",
    "    return jpeg_decode(as_jpeg)"
   ]
  },
  {
   "cell_type": "code",
   "execution_count": null,
   "metadata": {},
   "outputs": [],
   "source": [
    "images_for_jpeg = sample_images[2::]\n",
    "len(images_for_jpeg)"
   ]
  },
  {
   "cell_type": "code",
   "execution_count": null,
   "metadata": {},
   "outputs": [],
   "source": [
    "images10 = [jpeg_quality_filter(img, 10) for img in images_for_jpeg]\n",
    "images50 = [jpeg_quality_filter(img, 10) for img in images_for_jpeg]\n",
    "images80 = [jpeg_quality_filter(img, 10) for img in images_for_jpeg]"
   ]
  },
  {
   "cell_type": "code",
   "execution_count": null,
   "metadata": {},
   "outputs": [],
   "source": [
    "def ssim(img, filtered_img):\n",
    "    \"\"\"The SSIM similarity measure. Use the parameters from the paper \n",
    "    as on the second to last slide from the lecture\"\"\"\n",
    "    # your code\n",
    "    return random.randint(0, 10)\n",
    "\n",
    "for i, img in enumerate(images_for_jpeg):\n",
    "    print(i)\n",
    "    compressed_images = [images10[i], images50[i], images80[i]]\n",
    "    plt.bar(range(len(compressed_images)),\n",
    "             [ssim(img, comp) for comp in compressed_images])\n",
    "    plt.show()"
   ]
  },
  {
   "cell_type": "code",
   "execution_count": null,
   "metadata": {},
   "outputs": [],
   "source": []
  }
 ],
 "metadata": {
  "kernelspec": {
   "display_name": "Python 3",
   "language": "python",
   "name": "python3"
  },
  "language_info": {
   "codemirror_mode": {
    "name": "ipython",
    "version": 3
   },
   "file_extension": ".py",
   "mimetype": "text/x-python",
   "name": "python",
   "nbconvert_exporter": "python",
   "pygments_lexer": "ipython3",
   "version": "3.8.1"
  }
 },
 "nbformat": 4,
 "nbformat_minor": 1
}
