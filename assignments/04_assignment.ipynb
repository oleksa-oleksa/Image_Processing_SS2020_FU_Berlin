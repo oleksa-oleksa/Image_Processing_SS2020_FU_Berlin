{
 "cells": [
  {
   "cell_type": "markdown",
   "metadata": {},
   "source": [
    "# Image Processing SS 20 - Assignment - 04\n",
    "\n",
    "### Deadline is 20.5.2020 at 11:55am\n",
    "\n",
    "Please solve the assignments together with a partner.\n",
    "I will run every notebook. Make sure the code runs through. Select `Kernel` -> `Restart & Run All` to test it.\n",
    "Please strip the output from the cells, either select `Cell` -> `All Output` -> `Clear` or use the `nb_strip_output.py` script / git hook."
   ]
  },
  {
   "cell_type": "code",
   "execution_count": 1,
   "metadata": {},
   "outputs": [],
   "source": [
    "# display the plots inside the notebook\n",
    "%matplotlib inline"
   ]
  },
  {
   "cell_type": "code",
   "execution_count": 2,
   "metadata": {},
   "outputs": [],
   "source": [
    "import numpy as np\n",
    "import matplotlib.pyplot as plt\n",
    "import pylab\n",
    "import random\n",
    "from io import BytesIO\n",
    "from PIL import Image\n",
    "\n",
    "pylab.rcParams['figure.figsize'] = (12, 12)   # This makes the plot bigger"
   ]
  },
  {
   "cell_type": "markdown",
   "metadata": {},
   "source": [
    "# Exercise 1 - Qualify sharpness and noise - 5 Points\n",
    "\n",
    "Determine the noise and sharpness in the images. Plot image number vs noise\n",
    "\n",
    "Please download sample picture from [here](http://sipi.usc.edu/database/misc.zip) and place them next to your assignment (inside the misc folder)."
   ]
  },
  {
   "cell_type": "code",
   "execution_count": 3,
   "metadata": {},
   "outputs": [],
   "source": [
    "# Load the pictures here\n",
    "sample_images = []\n",
    "direc = 'misc/' # directory of the sample pictures relative to your notebook\n",
    "for number in [1,3,5,6]:\n",
    "    sample_images.append(\n",
    "        np.array(Image.open(direc+'4.2.0'+str(number)+'.tiff'))\n",
    "    )\n",
    "for name in ['house']:\n",
    "    sample_images.append(\n",
    "        np.array(Image.open(direc+name+'.tiff'))\n",
    "    )"
   ]
  },
  {
   "cell_type": "code",
   "execution_count": 4,
   "metadata": {},
   "outputs": [
    {
     "data": {
      "text/plain": [
       "<BarContainer object of 5 artists>"
      ]
     },
     "execution_count": 4,
     "metadata": {},
     "output_type": "execute_result"
    },
    {
     "data": {
      "image/png": "[encoded data removed]",
      "text/plain": [
       "<Figure size 864x864 with 1 Axes>"
      ]
     },
     "metadata": {
      "needs_background": "light"
     },
     "output_type": "display_data"
    }
   ],
   "source": [
    "from skimage.color import rgb2grey\n",
    "\n",
    "def qualify_noise(img):\n",
    "    \"\"\"Qualify the noise based on the std of a gaussian model.\n",
    "       You may find a window that is contant in the images.\n",
    "    \"\"\"\n",
    "    # your code here\n",
    "    \"\"\"\n",
    "    slide 42 lecture \"Image Processing\"\n",
    "\n",
    "    How can we measure the amount of noise in an image?\n",
    "    We don’t know whether the changes of pixel brightness are due to texture or noise!\n",
    "    Let’s first assume we know where in the image we have a homogeneous patch \n",
    "    (i.e.an image region with no texture, edges, gradients, etc).\n",
    "    \n",
    "    For estimating Gaussian Noise we have to calculate 2 parameters: sigma und mu\n",
    "    The parameter mu  is the mean or expectation of the distribution (and also its median and mode); \n",
    "    and sigma  is its standard deviation. \n",
    "    The variance of the distribution is sigma^2\n",
    "        \n",
    "    Numpy function std: Returns the standard deviation, a measure of the spread of a distribution, \n",
    "    of the array elements. The standard deviation is computed for the flattened array by default, \n",
    "    otherwise over the specified axis.\n",
    "    \"\"\"\n",
    "    grey_img = rgb2grey(img)\n",
    "    # mu = np.mean(img)\n",
    "    std = np.std(grey_img, dtype = np.float32) \n",
    "    return std\n",
    "    \n",
    "\n",
    "plt.bar(range(len(sample_images)), [qualify_noise(i) for i in sample_images])"
   ]
  },
  {
   "cell_type": "code",
   "execution_count": 13,
   "metadata": {},
   "outputs": [
    {
     "data": {
      "text/plain": [
       "<BarContainer object of 5 artists>"
      ]
     },
     "execution_count": 13,
     "metadata": {},
     "output_type": "execute_result"
    },
    {
     "data": {
      "image/png": "[encoded data removed]",
      "text/plain": [
       "<Figure size 864x864 with 1 Axes>"
      ]
     },
     "metadata": {
      "needs_background": "light"
     },
     "output_type": "display_data"
    }
   ],
   "source": [
    "def qualify_sharpness(img):\n",
    "    \"\"\"Qualify the sharpness based on the average pixel differences.\"\"\"\n",
    "    # your code here\n",
    "    \"\"\"\n",
    "    numpy.diff(a, n=1, axis=-1, prepend=<no value>, append=<no value>)[source]\n",
    "    Calculate the n-th discrete difference along the given axis.\n",
    "    \"\"\"\n",
    "    grey_img = rgb2grey(img)\n",
    "    amount_of_pixels = grey_img.shape[0] * grey_img.shape[1]\n",
    "\n",
    "    # Differences of Pixel brightness across line\n",
    "    # in a NumPy array, axis 0 is the “first” axis. Assuming that we're talking \n",
    "    # about multi-dimensional arrays, axis 0 is the axis that runs downward down the rows.\n",
    "    difference_array = np.diff(grey_img, axis=0)\n",
    "    \n",
    "    # summarize the difference\n",
    "    sum_of_diff = np.sum(difference_array)\n",
    "    \n",
    "    result = sum_of_diff / amount_of_pixels\n",
    "    \n",
    "    return result\n",
    " \n",
    "\n",
    "plt.bar(range(len(sample_images)), [qualify_sharpness(i) for i in sample_images])"
   ]
  },
  {
   "cell_type": "markdown",
   "metadata": {},
   "source": [
    "Does the result match your expectations? If not what processing step can be done?"
   ]
  },
  {
   "cell_type": "markdown",
   "metadata": {},
   "source": [
    "# Exercise 2 - SSIM JPEG Compression - 5 Points"
   ]
  },
  {
   "cell_type": "code",
   "execution_count": 14,
   "metadata": {},
   "outputs": [],
   "source": [
    "def jpeg_enocde(img, quality):\n",
    "    pil_img = Image.fromarray(img)\n",
    "    buffer = BytesIO()\n",
    "    pil_img.save(buffer, \"JPEG\", quality=quality)\n",
    "    return buffer\n",
    "\n",
    "def jpeg_decode(buffer):\n",
    "    img = Image.open(buffer)\n",
    "    return np.array(img)\n",
    "\n",
    "def jpeg_quality_filter(img, quality):\n",
    "    as_jpeg = jpeg_enocde(img, quality)\n",
    "    return jpeg_decode(as_jpeg)"
   ]
  },
  {
   "cell_type": "code",
   "execution_count": 18,
   "metadata": {},
   "outputs": [
    {
     "data": {
      "text/plain": [
       "3"
      ]
     },
     "execution_count": 18,
     "metadata": {},
     "output_type": "execute_result"
    }
   ],
   "source": [
    "images_for_jpeg = sample_images[2::]\n",
    "len(images_for_jpeg)"
   ]
  },
  {
   "cell_type": "code",
   "execution_count": 28,
   "metadata": {},
   "outputs": [],
   "source": [
    "images10 = [jpeg_quality_filter(img, 10) for img in images_for_jpeg]\n",
    "images50 = [jpeg_quality_filter(img, 50) for img in images_for_jpeg]\n",
    "images80 = [jpeg_quality_filter(img, 80) for img in images_for_jpeg]"
   ]
  },
  {
   "cell_type": "code",
   "execution_count": 37,
   "metadata": {},
   "outputs": [
    {
     "name": "stdout",
     "output_type": "stream",
     "text": [
      "0\n"
     ]
    },
    {
     "ename": "NameError",
     "evalue": "name 'std_orig' is not defined",
     "output_type": "error",
     "traceback": [
      "\u001b[0;31m---------------------------------------------------------------------------\u001b[0m",
      "\u001b[0;31mNameError\u001b[0m                                 Traceback (most recent call last)",
      "\u001b[0;32m<ipython-input-37-a54bf88203b8>\u001b[0m in \u001b[0;36m<module>\u001b[0;34m\u001b[0m\n\u001b[1;32m     72\u001b[0m     \u001b[0mcompressed_images\u001b[0m \u001b[0;34m=\u001b[0m \u001b[0;34m[\u001b[0m\u001b[0mimages10\u001b[0m\u001b[0;34m[\u001b[0m\u001b[0mi\u001b[0m\u001b[0;34m]\u001b[0m\u001b[0;34m,\u001b[0m \u001b[0mimages50\u001b[0m\u001b[0;34m[\u001b[0m\u001b[0mi\u001b[0m\u001b[0;34m]\u001b[0m\u001b[0;34m,\u001b[0m \u001b[0mimages80\u001b[0m\u001b[0;34m[\u001b[0m\u001b[0mi\u001b[0m\u001b[0;34m]\u001b[0m\u001b[0;34m]\u001b[0m\u001b[0;34m\u001b[0m\u001b[0;34m\u001b[0m\u001b[0m\n\u001b[1;32m     73\u001b[0m     plt.bar(range(len(compressed_images)),\n\u001b[0;32m---> 74\u001b[0;31m              [ssim(img, comp) for comp in compressed_images])\n\u001b[0m\u001b[1;32m     75\u001b[0m     \u001b[0mplt\u001b[0m\u001b[0;34m.\u001b[0m\u001b[0mshow\u001b[0m\u001b[0;34m(\u001b[0m\u001b[0;34m)\u001b[0m\u001b[0;34m\u001b[0m\u001b[0;34m\u001b[0m\u001b[0m\n",
      "\u001b[0;32m<ipython-input-37-a54bf88203b8>\u001b[0m in \u001b[0;36m<listcomp>\u001b[0;34m(.0)\u001b[0m\n\u001b[1;32m     72\u001b[0m     \u001b[0mcompressed_images\u001b[0m \u001b[0;34m=\u001b[0m \u001b[0;34m[\u001b[0m\u001b[0mimages10\u001b[0m\u001b[0;34m[\u001b[0m\u001b[0mi\u001b[0m\u001b[0;34m]\u001b[0m\u001b[0;34m,\u001b[0m \u001b[0mimages50\u001b[0m\u001b[0;34m[\u001b[0m\u001b[0mi\u001b[0m\u001b[0;34m]\u001b[0m\u001b[0;34m,\u001b[0m \u001b[0mimages80\u001b[0m\u001b[0;34m[\u001b[0m\u001b[0mi\u001b[0m\u001b[0;34m]\u001b[0m\u001b[0;34m]\u001b[0m\u001b[0;34m\u001b[0m\u001b[0;34m\u001b[0m\u001b[0m\n\u001b[1;32m     73\u001b[0m     plt.bar(range(len(compressed_images)),\n\u001b[0;32m---> 74\u001b[0;31m              [ssim(img, comp) for comp in compressed_images])\n\u001b[0m\u001b[1;32m     75\u001b[0m     \u001b[0mplt\u001b[0m\u001b[0;34m.\u001b[0m\u001b[0mshow\u001b[0m\u001b[0;34m(\u001b[0m\u001b[0;34m)\u001b[0m\u001b[0;34m\u001b[0m\u001b[0;34m\u001b[0m\u001b[0m\n",
      "\u001b[0;32m<ipython-input-37-a54bf88203b8>\u001b[0m in \u001b[0;36mssim\u001b[0;34m(img, filtered_img)\u001b[0m\n\u001b[1;32m     59\u001b[0m \u001b[0;34m\u001b[0m\u001b[0m\n\u001b[1;32m     60\u001b[0m     \u001b[0mssim_numerator\u001b[0m \u001b[0;34m=\u001b[0m \u001b[0;34m(\u001b[0m\u001b[0;36m2\u001b[0m \u001b[0;34m*\u001b[0m \u001b[0mmu_orig\u001b[0m \u001b[0;34m*\u001b[0m \u001b[0mmu_filtered\u001b[0m \u001b[0;34m+\u001b[0m \u001b[0mluminance_c1\u001b[0m\u001b[0;34m)\u001b[0m \u001b[0;34m*\u001b[0m \u001b[0;34m(\u001b[0m\u001b[0;36m2\u001b[0m \u001b[0;34m*\u001b[0m \u001b[0mstd_xy\u001b[0m  \u001b[0;34m+\u001b[0m \u001b[0mcontrast_c2\u001b[0m\u001b[0;34m)\u001b[0m\u001b[0;34m\u001b[0m\u001b[0;34m\u001b[0m\u001b[0m\n\u001b[0;32m---> 61\u001b[0;31m     \u001b[0mssim_denominator\u001b[0m \u001b[0;34m=\u001b[0m \u001b[0;34m(\u001b[0m\u001b[0mmu_orig\u001b[0m\u001b[0;34m**\u001b[0m\u001b[0;36m2\u001b[0m \u001b[0;34m+\u001b[0m \u001b[0mmu_filtered\u001b[0m\u001b[0;34m**\u001b[0m\u001b[0;36m2\u001b[0m \u001b[0;34m+\u001b[0m \u001b[0mluminance_c1\u001b[0m\u001b[0;34m)\u001b[0m \u001b[0;34m*\u001b[0m \u001b[0;34m(\u001b[0m\u001b[0mstd_orig\u001b[0m\u001b[0;34m**\u001b[0m\u001b[0;36m2\u001b[0m \u001b[0;34m+\u001b[0m \u001b[0mstd_filtered\u001b[0m\u001b[0;34m**\u001b[0m\u001b[0;36m2\u001b[0m \u001b[0;34m+\u001b[0m \u001b[0mcontrast_c2\u001b[0m\u001b[0;34m)\u001b[0m\u001b[0;34m\u001b[0m\u001b[0;34m\u001b[0m\u001b[0m\n\u001b[0m\u001b[1;32m     62\u001b[0m \u001b[0;34m\u001b[0m\u001b[0m\n\u001b[1;32m     63\u001b[0m     \u001b[0mssim_result\u001b[0m \u001b[0;34m=\u001b[0m \u001b[0mfloat\u001b[0m\u001b[0;34m(\u001b[0m\u001b[0mssim_numerator\u001b[0m \u001b[0;34m/\u001b[0m \u001b[0mssim_denominator\u001b[0m\u001b[0;34m)\u001b[0m\u001b[0;34m\u001b[0m\u001b[0;34m\u001b[0m\u001b[0m\n",
      "\u001b[0;31mNameError\u001b[0m: name 'std_orig' is not defined"
     ]
    }
   ],
   "source": [
    "def calc_global_sigma(img, filtered_img, mue_img, mue_filtered_img):\n",
    "        number_of_pixels = img.shape[0] * img.shape[1] - 1\n",
    "        img_sum = 0\n",
    "        for x in range(img.shape[0]):\n",
    "            for y in range(img.shape[1]):\n",
    "                img_sum += (img[x,y] - mue_img) * (filtered_img[x,y] - mue_filtered_img)\n",
    "        return img_sum/number_of_pixels\n",
    "\n",
    "def ssim(img, filtered_img):\n",
    "    \"\"\"The SSIM similarity measure. Use the parameters from the paper \n",
    "    as on the second to last slide from the lecture\"\"\"\n",
    "    # your code\n",
    "    # img is original\n",
    "    \"\"\"\n",
    "    Suppose x and y are two non-negative image signals, which have been aligned with eachother \n",
    "    (e.g., spatial patches extracted from each image). If we consider one of the signals \n",
    "    to have perfect quality, then the similarity measure can serve as a quantitative measurement \n",
    "    of the quality of the second signal. \n",
    "    \"\"\"\n",
    "    \n",
    "    img = rgb2grey(img)\n",
    "    filtered_img = rgb2grey(filtered_img)\n",
    "\n",
    "    mu_orig = np.mean(img)\n",
    "    mu_filtered = np.mean(filtered_img)\n",
    "    \n",
    "    std_orig = np.std(img, dtype = np.float32)\n",
    "    std_filtered = np.std(img, dtype = np.float32)\n",
    "\n",
    "\n",
    "    # Structure comparison is conducted after luminance subtraction and variance normalization.  \n",
    "    # Specifically, we associate the two unit vectors (x−μx)/σx and (y−μy)/σy,\n",
    "    # each lying in the hyperplane defined by Eq. (3), with thestructure of the two images. \n",
    "    # The correlation (inner product) between these is a simple and effective measure to quantify \n",
    "    # the structural similarity. Notice that the correlation between (x−μx)/σxand (y−μy)/σy \n",
    "    # is equivalent to the correlation coefficient between x and y.\n",
    "    \n",
    "    amount_of_pixels_unbiased = img.shape[0] * img.shape[1] - 1\n",
    "    diff_orig = img - mu_orig\n",
    "    diff_filtered = filtered_img - mu_filtered\n",
    "    std_xy = np.sum(diff_orig * diff_filtered) / amount_of_pixels_unbiased\n",
    "\n",
    "    # From papper: Image Quality Assessment: From Error Visibility to Structural Similarity \n",
    "    # For luminance comparison, we definel(x,y) = (2 * μ_x * μ_y + C1)/(μ_x^2 + μ_y^2 + C1)\n",
    "    # where the constant C1 is included to avoid instability when μ2x+μ2y is very close to zero. \n",
    "    # Specifically, we choose C1= (K_1 * L)**2\n",
    "    # where L is the dynamic range of the pixel values (255 for8-bit grayscale images), \n",
    "    # and K_1 < 1 is a small constant.\n",
    "    \n",
    "    luminance_c1 = (0.5 * 255) ** 2\n",
    "    \n",
    "    # The contrast comparison function takes a similar form:\n",
    "    # c(x,y) = (2 * σ_xy + C2)/(σ_x^2 + σ_y^2 + C2)\n",
    "    # where C2= (K2_2 * L)**2, and K_2 < 1.\n",
    "    \n",
    "    contrast_c2 = (0.00025 * 255) ** 2\n",
    "    \n",
    "    \n",
    "    # specific form of the SSIM index (In order to simplify the expression,we set α = β = γ = 1 \n",
    "    # and C3 = C2/2 in this paper)\n",
    "    # Specific form of the SSIM for calculation:\n",
    "    # SSIM(x,y) =((2 * μ_x * μ_y + C1)*(2 * σ_xy + C2))/((μ_x^2 + μ_y^2 + C1)*(σ_x^2 + σ_y^2 + C2))\n",
    "\n",
    "    ssim_numerator = (2 * mu_orig * mu_filtered + luminance_c1) * (2 * std_xy  + contrast_c2)\n",
    "    ssim_denominator = (mu_orig**2 + mu_filtered**2 + luminance_c1) * (std_orig**2 + std_filtered**2 + contrast_c2)\n",
    "    \n",
    "    ssim_result = float(ssim_numerator / ssim_denominator)\n",
    "    \n",
    "    \n",
    "    print(ssim_result)\n",
    "    return ssim_result\n",
    "    \n",
    "\n",
    "for i, img in enumerate(images_for_jpeg):\n",
    "    print(i)\n",
    "    compressed_images = [images10[i], images50[i], images80[i]]\n",
    "    plt.bar(range(len(compressed_images)),\n",
    "             [ssim(img, comp) for comp in compressed_images])\n",
    "    plt.show()"
   ]
  },
  {
   "cell_type": "code",
   "execution_count": null,
   "metadata": {},
   "outputs": [],
   "source": []
  }
 ],
 "metadata": {
  "kernelspec": {
   "display_name": "Python 3",
   "language": "python",
   "name": "python3"
  },
  "language_info": {
   "codemirror_mode": {
    "name": "ipython",
    "version": 3
   },
   "file_extension": ".py",
   "mimetype": "text/x-python",
   "name": "python",
   "nbconvert_exporter": "python",
   "pygments_lexer": "ipython3",
   "version": "3.8.1"
  }
 },
 "nbformat": 4,
 "nbformat_minor": 1
}
