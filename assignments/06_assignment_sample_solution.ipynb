{
 "cells": [
  {
   "cell_type": "markdown",
   "metadata": {},
   "source": [
    "# Image Processing SS 16 - Assignment - 06\n",
    "\n",
    "### Deadline is 8.6.2016 at 16:00 o'clock\n",
    "\n",
    "Please solve the assignments together with a partner.\n",
    "I will run every notebook. Make sure the code runs through. Select `Kernel` -> `Restart & Run All` to test it.\n",
    "Please strip the output from the cells, either select `Cell` -> `All Output` -> `Clear` or use the `nb_strip_output.py` script / git hook."
   ]
  },
  {
   "cell_type": "code",
   "execution_count": null,
   "metadata": {},
   "outputs": [],
   "source": [
    "# display the plots inside the notebook\n",
    "%matplotlib inline"
   ]
  },
  {
   "cell_type": "code",
   "execution_count": null,
   "metadata": {},
   "outputs": [],
   "source": [
    "import numpy as np\n",
    "import matplotlib.pyplot as plt\n",
    "import pylab\n",
    "import scipy.io.wavfile\n",
    "from io import BytesIO\n",
    "import urllib.request as urllib2\n",
    "import ssl\n",
    "import IPython.display as adt\n",
    "ssl._create_default_https_context = ssl._create_unverified_context\n",
    "pylab.rcParams['figure.figsize'] = (12, 12)   # This makes the plot bigger"
   ]
  },
  {
   "cell_type": "markdown",
   "metadata": {
    "pycharm": {
     "name": "#%% md\n"
    }
   },
   "source": [
    "# Exercise 1 - Crosscorrelation - 2 Points\n",
    "Implement a function myCrossCorrelation, which takes two discrete functions in the form of arrays as an input and outputs the resulting crosscorrelation function. Now apply your correlation function as follows:\n",
    "a) use as input function 1 an array of 10 random numbers (0-255), function 2 shall be [1], plot the two functions and the result of the crosscorrelation of both.\n",
    "b) use the same function 1 as in a), function b) shall be [1 2 1]. Plot the two functions and the crosscorrelation of both.\n",
    "c) repeat the first two tasks but swap the arguments"
   ]
  },
  {
   "cell_type": "code",
   "execution_count": null,
   "metadata": {
    "pycharm": {
     "name": "#%%\n"
    }
   },
   "outputs": [],
   "source": [
    "def myCrossCorrelation(func1, func2):\n",
    "    res_func = np.zeros(func1.shape[0] + func2.shape[0])\n",
    "    func2 = np.flip(func2)\n",
    "\n",
    "    for i in range(func1.shape[0]):\n",
    "        for j in range(func2.shape[0]):\n",
    "            res_func[i+j] = res_func[i+j] + func1[i]*func2[j]\n",
    "    return res_func\n",
    "\n",
    "func1 = np.random.randint(0, 255, 10)\n",
    "func2 = np.array([1])\n",
    "func3 = np.array([1, 2, 1])\n",
    "plt.subplot(221)\n",
    "plt.plot(func1)\n",
    "plt.plot(func2)\n",
    "plt.plot(myCrossCorrelation(func1, func2))\n",
    "\n",
    "plt.subplot(222)\n",
    "plt.plot(func1)\n",
    "plt.plot(func3)\n",
    "plt.plot(myCrossCorrelation(func1, func3))\n",
    "\n",
    "plt.subplot(223)\n",
    "plt.plot(func1)\n",
    "plt.plot(func2)\n",
    "plt.plot(myCrossCorrelation(func2, func1))\n",
    "\n",
    "plt.subplot(224)\n",
    "plt.plot(func1)\n",
    "plt.plot(func3)\n",
    "plt.plot(myCrossCorrelation(func3, func1))\n",
    "plt.show()\n"
   ]
  },
  {
   "cell_type": "markdown",
   "metadata": {},
   "source": [
    "# Exercise 2 - Discrete Fourier Transformation - 4 Points\n",
    "Implement the Discrete Fourier Transformation with [Matrix Multiplication](https://en.wikipedia.org/wiki/DFT_matrix)."
   ]
  },
  {
   "cell_type": "code",
   "execution_count": null,
   "metadata": {},
   "outputs": [],
   "source": [
    "def dft_matrix(n):\n",
    "    \"\"\"\n",
    "    Returns the Discrete Fourier Transformation Matrix of order `n`.\n",
    "    \"\"\"\n",
    "    omega = np.exp( - 2 * np.pi * 1J / n )\n",
    "    W = np.ones((n,n), dtype=complex)\n",
    "    for x in range(W.shape[0]):\n",
    "        for y in range(W.shape[1]):\n",
    "            W[x,y] = omega**(x*y)\n",
    "    return W / np.sqrt(n)\n",
    "\n",
    "dft_16 = dft_matrix(16)\n",
    "dft_32 = dft_matrix(32)\n",
    "dft_1024 = dft_matrix(1024)\n",
    "\n",
    "plt.subplot(321).set_title(\"Real\\n 16\")\n",
    "plt.imshow(dft_16.real)\n",
    "plt.subplot(322).set_title(\"Imaginary\\n 16\")\n",
    "plt.imshow(dft_16.imag)\n",
    "plt.subplot(323).set_title(\"32\")\n",
    "plt.imshow(dft_32.real)\n",
    "plt.subplot(324).set_title(\"32\")\n",
    "plt.imshow(dft_32.imag)\n",
    "plt.subplot(325).set_title(\"1024\")\n",
    "plt.imshow(dft_1024.real)\n",
    "plt.subplot(326).set_title(\"1024\")\n",
    "plt.imshow(dft_1024.imag)\n",
    "plt.show()"
   ]
  },
  {
   "cell_type": "markdown",
   "metadata": {},
   "source": [
    "# Exercise 3 - Spectrogram - 4 Points\n",
    "\n",
    "A [spectrogram](https://en.wikipedia.org/wiki/Spectrogram) visualises the intensities of the different frequencies over time. On the x-axis is the time and on the y-axis are the frequencies.\n",
    "Your task is to build the spectrogram of the given audio clip. If you failed to do exercise 2, you can use some library for the fourier transformation."
   ]
  },
  {
   "cell_type": "code",
   "execution_count": null,
   "metadata": {},
   "outputs": [],
   "source": [
    "def load_wav(url):\n",
    "    f = urllib2.urlopen(url)\n",
    "    buffer = BytesIO(f.read())\n",
    "    sample_rate, audio = scipy.io.wavfile.read(buffer)\n",
    "    if len(audio.shape) == 2:\n",
    "        # only select one channel\n",
    "        audio = audio[:, 0]\n",
    "    return sample_rate, audio / audio.max()"
   ]
  },
  {
   "cell_type": "code",
   "execution_count": null,
   "metadata": {},
   "outputs": [],
   "source": [
    "delphines_url = \"http://www.pmel.noaa.gov/acoustics/whales/sounds/whalewav/akhumphi1x.wav\"\n",
    "classic_url = \"http://download.naimlabel.com/test/95ffbfec-d57f-4ba8-9fa8-f5c9da56759a.aspx\"\n",
    "# you can choose between delphine sounds and some classic music.\n",
    "sample_rate, audio = load_wav(delphines_url)"
   ]
  },
  {
   "cell_type": "code",
   "execution_count": null,
   "metadata": {},
   "outputs": [],
   "source": [
    "# listen to the audio\n",
    "adt.Audio(data=audio, rate=sample_rate)"
   ]
  },
  {
   "cell_type": "code",
   "execution_count": null,
   "metadata": {},
   "outputs": [],
   "source": [
    "# plot the values.\n",
    "plt.plot(audio)\n",
    "plt.show()"
   ]
  },
  {
   "cell_type": "code",
   "execution_count": null,
   "metadata": {},
   "outputs": [],
   "source": [
    "def spectogram(audio, window_size=500):\n",
    "    \"\"\"\n",
    "    Builds the spectogram of the audio clip. Split the audio clip into buckets of `window_size` and \n",
    "    use the discrete fourier transformation to get the intensity of the frequencies.\n",
    "    The entery at position (i, j) of the matrix stands for the intensity of the i-th frequencies in the j-th bucket.\n",
    "    \"\"\"\n",
    "    buckets_amount = np.int(len(audio)/window_size)\n",
    "    result = np.zeros((window_size, buckets_amount),dtype=complex)\n",
    "    DFT = dft_matrix(window_size)\n",
    "    buckets = np.split(audio, range(window_size, len(audio), window_size))[:-1]\n",
    "    \n",
    "    for j, bucket in enumerate(buckets):\n",
    "        bucket = bucket.reshape(window_size,1)\n",
    "        spectrum = np.dot(DFT,bucket).reshape(1,window_size)\n",
    "        result[:,j] = spectrum\n",
    "    \n",
    "    return np.abs(result*result)[len(result)//2:]"
   ]
  },
  {
   "cell_type": "code",
   "execution_count": null,
   "metadata": {},
   "outputs": [],
   "source": [
    "specgram = spectogram(audio, window_size=500)\n",
    "print(specgram.shape)"
   ]
  },
  {
   "cell_type": "code",
   "execution_count": null,
   "metadata": {},
   "outputs": [],
   "source": [
    "im = plt.imshow(specgram.real, aspect = 2)\n",
    "plt.colorbar(im, fraction=0.02, pad=0.04)\n",
    "plt.show()\n"
   ]
  },
  {
   "cell_type": "code",
   "execution_count": null,
   "metadata": {
    "pycharm": {
     "name": "#%%\n"
    }
   },
   "outputs": [],
   "source": [
    "# plot it logarithmic\n",
    "specgram[np.nonzero(specgram)] = 20 * np.log10(specgram[np.nonzero(specgram)])\n",
    "specgram = np.clip(specgram,-40,200)             # clip off everything a human cannot hear\n",
    "im = plt.imshow(specgram.real, aspect = 2)\n",
    "plt.colorbar(im, fraction=0.02, pad=0.04)\n",
    "plt.show()\n",
    "\n",
    "im2 = plt.imshow(specgram.real[215:], aspect = 3)      # this is the frequency spectrum where actually something happens\n",
    "plt.colorbar(im2,fraction=0.002, pad=0.04)\n",
    "plt.show()"
   ]
  }
 ],
 "metadata": {
  "kernelspec": {
   "display_name": "Python 3",
   "language": "python",
   "name": "python3"
  },
  "language_info": {
   "codemirror_mode": {
    "name": "ipython",
    "version": 3
   },
   "file_extension": ".py",
   "mimetype": "text/x-python",
   "name": "python",
   "nbconvert_exporter": "python",
   "pygments_lexer": "ipython3",
   "version": "3.5.2"
  }
 },
 "nbformat": 4,
 "nbformat_minor": 1
}
