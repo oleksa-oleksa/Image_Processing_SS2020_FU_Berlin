{
 "cells": [
  {
   "cell_type": "markdown",
   "metadata": {},
   "source": [
    "# Image Processing SS 20 - Assignment - 08\n",
    "\n",
    "### Deadline is 17.6.2020 at 11:55am\n",
    "\n",
    "Please solve the assignments together with a partner.\n",
    "I will run every notebook. Make sure the code runs through. Select `Kernel` -> `Restart & Run All` to test it.\n",
    "Please strip the output from the cells, either select `Cell` -> `All Output` -> `Clear` or use the `nb_strip_output.py` script / git hook."
   ]
  },
  {
   "cell_type": "code",
   "execution_count": 1,
   "metadata": {},
   "outputs": [],
   "source": [
    "# display the plots inside the notebook\n",
    "%matplotlib inline"
   ]
  },
  {
   "cell_type": "code",
   "execution_count": 2,
   "metadata": {},
   "outputs": [],
   "source": [
    "import numpy as np\n",
    "import matplotlib.pyplot as plt\n",
    "import pylab\n",
    "from skimage.data import chelsea\n",
    "from skimage.color import rgb2gray\n",
    "from numpy.fft import fft2 as numpy_fft2, ifft2 as numpy_ifft2\n",
    "\n",
    "pylab.rcParams['figure.figsize'] = (12, 12)   # This makes the plot bigger"
   ]
  },
  {
   "cell_type": "markdown",
   "metadata": {},
   "source": [
    "# Exercise 1 - 2D DCT - 4 Points\n",
    "Transform a picture with 2D DCT (discrete cosine transform), which you must implement manually using DCT-II.\n",
    "For the 2D-DCT, perform two 1D-DCT-transformations. Therefore, implement a method which returns a normalized DCT-II\n",
    "matrix. Plot a normalized 16x16 DCT-II-matrix (with colors reflecting the values in the matrix)."
   ]
  },
  {
   "cell_type": "code",
   "execution_count": 5,
   "metadata": {},
   "outputs": [
    {
     "data": {
      "image/png": "[encoded data removed]",
      "text/plain": [
       "<Figure size 864x864 with 2 Axes>"
      ]
     },
     "metadata": {
      "needs_background": "light"
     },
     "output_type": "display_data"
    }
   ],
   "source": [
    "def dft_matrix(n):\n",
    "    omega = np.exp( - 2 * np.pi * 1J / n )\n",
    "    W = np.ones((n,n), dtype=complex)\n",
    "    \n",
    "    for x in range(n):\n",
    "        for y in range(n):\n",
    "            W[x, y] = omega**(x*y)\n",
    "    return W / np.sqrt(n) \n",
    "\n",
    "def dct1d(line):\n",
    "    \"\"\"\n",
    "    Returns the discrete cosine transformation\n",
    "    https://en.wikipedia.org/wiki/Discrete_cosine_transform#DCT-II\n",
    "    \"\"\"\n",
    "    N = len(line)\n",
    "    result = np.zeros(N, dtype=float)\n",
    "    \n",
    "    '''\n",
    "    for k in range(N):\n",
    "        tmp = 0\n",
    "        for n in range(N):\n",
    "            tmp += line[k] * np.cos((np.pi / N)* (n + 0.5) * k)\n",
    "        result[k] = tmp \n",
    "    \n",
    "    \n",
    "    \n",
    "    ns = np.arange(N)\n",
    "    for k in range(N):\n",
    "        result[k] = np.sum(line[ns]*np.cos((np.pi*(ns+0.5)*k)/N))\n",
    "        \n",
    "    \n",
    "    for k in range(N):\n",
    "        xk = 0\n",
    "        for n in range(N):\n",
    "            xk += line[n]*np.cos((np.pi/N)*(n+0.5)*k)\n",
    "        result[k] = xk\n",
    "    \n",
    "    # for k in range(N):\n",
    "    #   result[k] = np.sum(line[k] * np.cos((np.pi / N)* (k + 0.5) * k))\n",
    "    '''\n",
    "    \n",
    "    \n",
    "    return result\n",
    "\n",
    "def dct2d(img):\n",
    "    \"\"\"\n",
    "    Returns the 2d discrete cosine transformation\n",
    "    https://en.wikipedia.org/wiki/Discrete_cosine_transform#M-D_DCT-II\n",
    "    \"\"\"\n",
    "    # your code here\n",
    "    N1 = img.shape[0]\n",
    "    N2 = img.shape[1]\n",
    "    first = np.ones([N1, N2], dtype=float)\n",
    "    second = np.ones([N1, N2], dtype=float)\n",
    "    \n",
    "    '''\n",
    "    # the one-dimensional DCT-II performed along the rows\n",
    "    first = np.apply_along_axis(dct1d, 0, img)\n",
    "    second = np.apply_along_axis(dct1d, 0, first)\n",
    "    print(\"debug\")\n",
    "    return second\n",
    "    '''\n",
    "    for n1 in range(N1):\n",
    "        first[n1,:] = dct1d(img[n1,:])\n",
    "    for n2 in range(N2):\n",
    "        second[:,n2] = dct1d(first[:,n2])\n",
    "    return second\n",
    "\n",
    "def inv_dct2d(x):\n",
    "    \"\"\"\n",
    "    Returns the 2d inverse discrete cosine transformation\n",
    "    \"\"\"\n",
    "    # your code here\n",
    "    return numpy_ifft2(x)\n",
    "\n",
    "def chess_board(n=8, field_size=32):\n",
    "    board = np.zeros((n*field_size, n*field_size))\n",
    "    s = field_size\n",
    "    for i in range(n):\n",
    "        for j in range(n):\n",
    "            if (i + j) % 2 == 0:\n",
    "                board[i*s:(i+1)*s, j*s:(j+1)*s] = 1\n",
    "    return board\n",
    "\n",
    "\n",
    "\n",
    "#for pic in [chess_board(), rgb2gray(chelsea())/255]:\n",
    "for pic in [chess_board()/255]:\n",
    "\n",
    "    plt.subplot(121)\n",
    "    #plt.imshow(np.real(dct2d(pic)), cmap='gray')\n",
    "    plt.imshow(dct2d(pic), cmap='gray')\n",
    "    plt.subplot(122)\n",
    "    #plt.imshow(np.imag(dct2d(pic)), cmap='gray')\n",
    "    plt.imshow(dct2d(pic), cmap='gray')\n",
    "    plt.show()"
   ]
  },
  {
   "cell_type": "markdown",
   "metadata": {
    "pycharm": {
     "name": "#%% md\n"
    }
   },
   "source": [
    "# Exercise 2 - 1 Point: (Manual calculation, no code needed.)\n",
    "\n",
    "Given is a signal [5,10,12]. Now you have to mirror the signal as in the lectures (resulting in a signal of length 5) and perform a DFT. Please write down all coefficients in the frequency spectrum. What do you see (one sentence)?"
   ]
  },
  {
   "cell_type": "markdown",
   "metadata": {},
   "source": [
    "# Exercise 3 - High and Low Pass filter with 2D DCT - 5 Points"
   ]
  },
  {
   "cell_type": "markdown",
   "metadata": {},
   "source": [
    "Implement the `high_pass` and `low_pass` functions which work on the frequency spectrum of a 2D-DCT\n",
    "transformed image. Apply the filters to both the chessboard and cat image and transform the\n",
    "result back into image space.\n",
    "\n",
    "Show the spectrum before and after filtering as well as the resulting images after backtransformation\n",
    "into image space."
   ]
  },
  {
   "cell_type": "code",
   "execution_count": 6,
   "metadata": {},
   "outputs": [],
   "source": [
    "def high_pass(img_ft, n):\n",
    "    \"\"\"Removes the low frequencies\"\"\"\n",
    "    # your code here\n",
    "    ft = img_ft.copy()\n",
    "    ft[:n,:n] = 0\n",
    "    return ft\n",
    "\n",
    "def low_pass(img_ft, n):\n",
    "    \"\"\"Removes the high frequencies\"\"\"\n",
    "    # your code here\n",
    "    ft = img_ft.copy()\n",
    "    ft[n:, :] = 0\n",
    "    ft[:, n:] = 0\n",
    "    return ft\n",
    "    \n",
    "def inv_dct_and_plot(img_ft):\n",
    "    plt.imshow(np.real(inv_dct2d(img_ft)), cmap='gray')\n",
    "    plt.show()"
   ]
  },
  {
   "cell_type": "code",
   "execution_count": 7,
   "metadata": {},
   "outputs": [
    {
     "data": {
      "image/png": "[encoded data removed]",
      "text/plain": [
       "<Figure size 864x864 with 1 Axes>"
      ]
     },
     "metadata": {
      "needs_background": "light"
     },
     "output_type": "display_data"
    }
   ],
   "source": [
    "img = rgb2gray(chelsea() / 255)\n",
    "# remove the low frequencies\n",
    "astro_high_feq = high_pass(dct2d(img), 12)\n",
    "inv_dct_and_plot(astro_high_feq)"
   ]
  },
  {
   "cell_type": "code",
   "execution_count": 8,
   "metadata": {},
   "outputs": [
    {
     "data": {
      "image/png": "[encoded data removed]",
      "text/plain": [
       "<Figure size 864x864 with 1 Axes>"
      ]
     },
     "metadata": {
      "needs_background": "light"
     },
     "output_type": "display_data"
    }
   ],
   "source": [
    "# remove the high frequencies\n",
    "chelsea_low_feq = low_pass(dct2d(img), 12)\n",
    "inv_dct_and_plot(chelsea_low_feq)"
   ]
  },
  {
   "cell_type": "code",
   "execution_count": null,
   "metadata": {},
   "outputs": [],
   "source": []
  }
 ],
 "metadata": {
  "kernelspec": {
   "display_name": "Python 3",
   "language": "python",
   "name": "python3"
  },
  "language_info": {
   "codemirror_mode": {
    "name": "ipython",
    "version": 3
   },
   "file_extension": ".py",
   "mimetype": "text/x-python",
   "name": "python",
   "nbconvert_exporter": "python",
   "pygments_lexer": "ipython3",
   "version": "3.8.1"
  }
 },
 "nbformat": 4,
 "nbformat_minor": 1
}
